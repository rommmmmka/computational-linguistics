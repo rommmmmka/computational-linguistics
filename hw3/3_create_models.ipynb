{
 "cells": [
  {
   "cell_type": "code",
   "execution_count": 1,
   "id": "initial_id",
   "metadata": {
    "collapsed": true,
    "ExecuteTime": {
     "end_time": "2024-04-27T19:29:13.521141700Z",
     "start_time": "2024-04-27T19:29:12.504681Z"
    }
   },
   "outputs": [],
   "source": [
    "import json\n",
    "import os\n",
    "\n",
    "from gensim.models import Word2Vec"
   ]
  },
  {
   "cell_type": "code",
   "execution_count": 2,
   "outputs": [],
   "source": [
    "with open(\"results/sentences.json\", mode=\"r\", encoding=\"utf-8\") as file:\n",
    "    sentences = json.loads(file.read())"
   ],
   "metadata": {
    "collapsed": false,
    "ExecuteTime": {
     "end_time": "2024-04-27T19:29:14.997487300Z",
     "start_time": "2024-04-27T19:29:13.525501500Z"
    }
   },
   "id": "302e21daab9d3e5"
  },
  {
   "cell_type": "code",
   "execution_count": 3,
   "outputs": [],
   "source": [
    "if not os.path.exists(\"results/models\"):\n",
    "    os.makedirs(\"results/models\")\n",
    "\n",
    "w2v_model_skipgram_100 = Word2Vec(\n",
    "    sentences=sentences,\n",
    "    vector_size=100,\n",
    "    window=5,\n",
    "    min_count=1,\n",
    "    workers=6,\n",
    "    sg=1\n",
    ")\n",
    "\n",
    "w2v_model_skipgram_100.wv.save_word2vec_format(\"results/models/skipgram_100.vec\")"
   ],
   "metadata": {
    "collapsed": false,
    "ExecuteTime": {
     "end_time": "2024-04-27T19:29:53.834458900Z",
     "start_time": "2024-04-27T19:29:15.005513300Z"
    }
   },
   "id": "d99607228bcb59b"
  },
  {
   "cell_type": "code",
   "execution_count": 4,
   "outputs": [],
   "source": [
    "w2v_model_skipgram_300 = Word2Vec(\n",
    "    sentences=sentences,\n",
    "    vector_size=300,\n",
    "    window=5,\n",
    "    min_count=1,\n",
    "    workers=6,\n",
    "    sg=1\n",
    ")\n",
    "\n",
    "w2v_model_skipgram_300.wv.save_word2vec_format(\"results/models/skipgram_300.vec\")"
   ],
   "metadata": {
    "collapsed": false,
    "ExecuteTime": {
     "end_time": "2024-04-27T19:31:07.366786800Z",
     "start_time": "2024-04-27T19:29:53.861368400Z"
    }
   },
   "id": "60758aac70bf6292"
  },
  {
   "cell_type": "code",
   "execution_count": 5,
   "outputs": [],
   "source": [
    "w2v_model_cbow_100 = Word2Vec(\n",
    "    sentences=sentences,\n",
    "    vector_size=100,\n",
    "    window=5,\n",
    "    min_count=1,\n",
    "    workers=6,\n",
    "    sg=0\n",
    ")\n",
    "\n",
    "w2v_model_cbow_100.wv.save_word2vec_format(\"results/models/cbow_100.vec\")"
   ],
   "metadata": {
    "collapsed": false,
    "ExecuteTime": {
     "end_time": "2024-04-27T19:31:34.668115Z",
     "start_time": "2024-04-27T19:31:07.371295900Z"
    }
   },
   "id": "66c522ba35df4e2d"
  }
 ],
 "metadata": {
  "kernelspec": {
   "display_name": "Python 3",
   "language": "python",
   "name": "python3"
  },
  "language_info": {
   "codemirror_mode": {
    "name": "ipython",
    "version": 2
   },
   "file_extension": ".py",
   "mimetype": "text/x-python",
   "name": "python",
   "nbconvert_exporter": "python",
   "pygments_lexer": "ipython2",
   "version": "2.7.6"
  }
 },
 "nbformat": 4,
 "nbformat_minor": 5
}
