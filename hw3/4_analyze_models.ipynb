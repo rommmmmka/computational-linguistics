{
 "cells": [
  {
   "cell_type": "code",
   "execution_count": 1,
   "id": "initial_id",
   "metadata": {
    "collapsed": true,
    "ExecuteTime": {
     "end_time": "2024-05-01T12:27:49.015007500Z",
     "start_time": "2024-05-01T12:27:47.156130200Z"
    }
   },
   "outputs": [],
   "source": [
    "import pandas as pd\n",
    "from gensim.models.keyedvectors import KeyedVectors"
   ]
  },
  {
   "cell_type": "code",
   "execution_count": 2,
   "outputs": [],
   "source": [
    "wv_skipgram_w5 = KeyedVectors.load_word2vec_format(\"results/models/m_skipgram_w5.vec\")\n",
    "wv_skipgram_w10 = KeyedVectors.load_word2vec_format(\"results/models/m_skipgram_w10.vec\")\n",
    "wv_cbow_w5 = KeyedVectors.load_word2vec_format(\"results/models/m_cbow_w5.vec\")\n",
    "\n",
    "# https://fasttext.cc/docs/en/crawl-vectors.html#models\n",
    "wv_pretrained = KeyedVectors.load_word2vec_format(\"results/models/cc.be.300.vec\")"
   ],
   "metadata": {
    "collapsed": false,
    "ExecuteTime": {
     "end_time": "2024-05-01T12:34:38.768038700Z",
     "start_time": "2024-05-01T12:27:49.018013200Z"
    }
   },
   "id": "f86980a1b4c22fc8"
  },
  {
   "cell_type": "code",
   "execution_count": 3,
   "outputs": [],
   "source": [
    "def apply_func(func, index = None):\n",
    "    map_func = lambda x: \": \".join(map(str,x)) if type(x) == tuple else x\n",
    "    \n",
    "    table = {\n",
    "        \"skipgram w5\": map(map_func, func(wv_skipgram_w5, \"skipgram w5\")),\n",
    "        \"skipgram w10\": map(map_func, func(wv_skipgram_w10, \"skipgram w10\")),\n",
    "        \"cbow w5\": map(map_func, func(wv_cbow_w5, \"cbow w5\")),\n",
    "        \"pretrained\": map(map_func, func(wv_pretrained, \"pretrained\"))\n",
    "    }\n",
    "    \n",
    "    return pd.DataFrame(table, index)"
   ],
   "metadata": {
    "collapsed": false,
    "ExecuteTime": {
     "end_time": "2024-05-01T12:34:38.830722300Z",
     "start_time": "2024-05-01T12:34:38.811487500Z"
    }
   },
   "id": "d63875c448a6033b"
  },
  {
   "cell_type": "code",
   "execution_count": 4,
   "outputs": [
    {
     "data": {
      "text/plain": "                   skipgram w5  skipgram w10  cbow w5  pretrained\nNumber of vectors       114491        114491   114491     1714011",
      "text/html": "<div>\n<style scoped>\n    .dataframe tbody tr th:only-of-type {\n        vertical-align: middle;\n    }\n\n    .dataframe tbody tr th {\n        vertical-align: top;\n    }\n\n    .dataframe thead th {\n        text-align: right;\n    }\n</style>\n<table border=\"1\" class=\"dataframe\">\n  <thead>\n    <tr style=\"text-align: right;\">\n      <th></th>\n      <th>skipgram w5</th>\n      <th>skipgram w10</th>\n      <th>cbow w5</th>\n      <th>pretrained</th>\n    </tr>\n  </thead>\n  <tbody>\n    <tr>\n      <th>Number of vectors</th>\n      <td>114491</td>\n      <td>114491</td>\n      <td>114491</td>\n      <td>1714011</td>\n    </tr>\n  </tbody>\n</table>\n</div>"
     },
     "execution_count": 4,
     "metadata": {},
     "output_type": "execute_result"
    }
   ],
   "source": [
    "apply_func(\n",
    "    lambda x, _: [len(x.vectors)],\n",
    "    index=[\"Number of vectors\"]\n",
    ")"
   ],
   "metadata": {
    "collapsed": false,
    "ExecuteTime": {
     "end_time": "2024-05-01T12:34:38.903454300Z",
     "start_time": "2024-05-01T12:34:38.833778900Z"
    }
   },
   "id": "d9dcd9901e0fe4b"
  },
  {
   "cell_type": "markdown",
   "source": [
    "# Outliers detection"
   ],
   "metadata": {
    "collapsed": false
   },
   "id": "8711d267af283b53"
  },
  {
   "cell_type": "code",
   "execution_count": 5,
   "outputs": [],
   "source": [
    "outliers_stats = {\n",
    "    \"skipgram w5\": 0,\n",
    "    \"skipgram w10\": 0,\n",
    "    \"cbow w5\": 0,\n",
    "    \"pretrained\": 0\n",
    "}\n",
    "\n",
    "\n",
    "def detect_outliers(wv: KeyedVectors, model_name: str):\n",
    "    column = []\n",
    "    \n",
    "    for outlier in cluster_outliers:\n",
    "        predicted_outlier = wv.doesnt_match(\n",
    "            cluster_elements + [outlier]\n",
    "        )\n",
    "        \n",
    "        if predicted_outlier == outlier:\n",
    "            column.append(\"+\")\n",
    "        else:\n",
    "            column.append(\"- \" + predicted_outlier)\n",
    "            \n",
    "    column.append(f\"{column.count('+')}/8\")\n",
    "    outliers_stats[model_name] += column.count('+')\n",
    "    \n",
    "    return column"
   ],
   "metadata": {
    "collapsed": false,
    "ExecuteTime": {
     "end_time": "2024-05-01T12:34:38.966657100Z",
     "start_time": "2024-05-01T12:34:38.868698300Z"
    }
   },
   "id": "914ffffe6643ba49"
  },
  {
   "cell_type": "code",
   "execution_count": 6,
   "outputs": [
    {
     "data": {
      "text/plain": "                    skipgram w5 skipgram w10 cbow w5 pretrained\nмастак                        +            +       +          +\nвясёлка                  - белы    - чырвоны       +          +\nгарбата                       +    - чырвоны       +          +\nаловак                        +            +       +          +\nнеба                          +            +       +          +\nплот                          +            +       +          +\nэмоцыя                        +            +       +          +\nстаражытнасць                 +            +       +          +\nCorrect predictions         7/8          6/8     8/8        8/8",
      "text/html": "<div>\n<style scoped>\n    .dataframe tbody tr th:only-of-type {\n        vertical-align: middle;\n    }\n\n    .dataframe tbody tr th {\n        vertical-align: top;\n    }\n\n    .dataframe thead th {\n        text-align: right;\n    }\n</style>\n<table border=\"1\" class=\"dataframe\">\n  <thead>\n    <tr style=\"text-align: right;\">\n      <th></th>\n      <th>skipgram w5</th>\n      <th>skipgram w10</th>\n      <th>cbow w5</th>\n      <th>pretrained</th>\n    </tr>\n  </thead>\n  <tbody>\n    <tr>\n      <th>мастак</th>\n      <td>+</td>\n      <td>+</td>\n      <td>+</td>\n      <td>+</td>\n    </tr>\n    <tr>\n      <th>вясёлка</th>\n      <td>- белы</td>\n      <td>- чырвоны</td>\n      <td>+</td>\n      <td>+</td>\n    </tr>\n    <tr>\n      <th>гарбата</th>\n      <td>+</td>\n      <td>- чырвоны</td>\n      <td>+</td>\n      <td>+</td>\n    </tr>\n    <tr>\n      <th>аловак</th>\n      <td>+</td>\n      <td>+</td>\n      <td>+</td>\n      <td>+</td>\n    </tr>\n    <tr>\n      <th>неба</th>\n      <td>+</td>\n      <td>+</td>\n      <td>+</td>\n      <td>+</td>\n    </tr>\n    <tr>\n      <th>плот</th>\n      <td>+</td>\n      <td>+</td>\n      <td>+</td>\n      <td>+</td>\n    </tr>\n    <tr>\n      <th>эмоцыя</th>\n      <td>+</td>\n      <td>+</td>\n      <td>+</td>\n      <td>+</td>\n    </tr>\n    <tr>\n      <th>старажытнасць</th>\n      <td>+</td>\n      <td>+</td>\n      <td>+</td>\n      <td>+</td>\n    </tr>\n    <tr>\n      <th>Correct predictions</th>\n      <td>7/8</td>\n      <td>6/8</td>\n      <td>8/8</td>\n      <td>8/8</td>\n    </tr>\n  </tbody>\n</table>\n</div>"
     },
     "execution_count": 6,
     "metadata": {},
     "output_type": "execute_result"
    }
   ],
   "source": [
    "cluster_elements = [\"чырвоны\", \"белы\", \"сіні\", \"блакітны\", \"зялёны\", \"чорны\", \"жоўты\", \"карычневы\"]\n",
    "cluster_outliers = [\"мастак\", \"вясёлка\", \"гарбата\", \"аловак\", \"неба\", \"плот\", \"эмоцыя\", \"старажытнасць\"]\n",
    "\n",
    "apply_func(detect_outliers, index=cluster_outliers + [\"Correct predictions\"])"
   ],
   "metadata": {
    "collapsed": false,
    "ExecuteTime": {
     "end_time": "2024-05-01T12:34:40.293489600Z",
     "start_time": "2024-05-01T12:34:38.880921900Z"
    }
   },
   "id": "2851b42e3a2cee19"
  },
  {
   "cell_type": "code",
   "execution_count": 7,
   "outputs": [
    {
     "data": {
      "text/plain": "                    skipgram w5 skipgram w10   cbow w5 pretrained\nлес                           +            +         +      - мыш\nкамень                        +            +         +          +\nпыса                   - сабака     - сабака  - сабака      - мыш\nхвост                         +            +  - сабака      - мыш\nзаапарк                - сабака            +  - сабака      - мыш\nзграя                  - сабака            +  - сабака      - мыш\nтэхніка                       +            +         +          +\nмастацтва                     +            +         +          +\nCorrect predictions         5/8          7/8       4/8        3/8",
      "text/html": "<div>\n<style scoped>\n    .dataframe tbody tr th:only-of-type {\n        vertical-align: middle;\n    }\n\n    .dataframe tbody tr th {\n        vertical-align: top;\n    }\n\n    .dataframe thead th {\n        text-align: right;\n    }\n</style>\n<table border=\"1\" class=\"dataframe\">\n  <thead>\n    <tr style=\"text-align: right;\">\n      <th></th>\n      <th>skipgram w5</th>\n      <th>skipgram w10</th>\n      <th>cbow w5</th>\n      <th>pretrained</th>\n    </tr>\n  </thead>\n  <tbody>\n    <tr>\n      <th>лес</th>\n      <td>+</td>\n      <td>+</td>\n      <td>+</td>\n      <td>- мыш</td>\n    </tr>\n    <tr>\n      <th>камень</th>\n      <td>+</td>\n      <td>+</td>\n      <td>+</td>\n      <td>+</td>\n    </tr>\n    <tr>\n      <th>пыса</th>\n      <td>- сабака</td>\n      <td>- сабака</td>\n      <td>- сабака</td>\n      <td>- мыш</td>\n    </tr>\n    <tr>\n      <th>хвост</th>\n      <td>+</td>\n      <td>+</td>\n      <td>- сабака</td>\n      <td>- мыш</td>\n    </tr>\n    <tr>\n      <th>заапарк</th>\n      <td>- сабака</td>\n      <td>+</td>\n      <td>- сабака</td>\n      <td>- мыш</td>\n    </tr>\n    <tr>\n      <th>зграя</th>\n      <td>- сабака</td>\n      <td>+</td>\n      <td>- сабака</td>\n      <td>- мыш</td>\n    </tr>\n    <tr>\n      <th>тэхніка</th>\n      <td>+</td>\n      <td>+</td>\n      <td>+</td>\n      <td>+</td>\n    </tr>\n    <tr>\n      <th>мастацтва</th>\n      <td>+</td>\n      <td>+</td>\n      <td>+</td>\n      <td>+</td>\n    </tr>\n    <tr>\n      <th>Correct predictions</th>\n      <td>5/8</td>\n      <td>7/8</td>\n      <td>4/8</td>\n      <td>3/8</td>\n    </tr>\n  </tbody>\n</table>\n</div>"
     },
     "execution_count": 7,
     "metadata": {},
     "output_type": "execute_result"
    }
   ],
   "source": [
    "cluster_elements = [\"сабака\", \"кот\", \"леў\", \"мыш\", \"ліс\", \"воўк\", \"мядзведзь\", \"заяц\"]\n",
    "cluster_outliers = [\"лес\", \"камень\", \"пыса\", \"хвост\", \"заапарк\", \"зграя\", \"тэхніка\", \"мастацтва\"]\n",
    "\n",
    "apply_func(detect_outliers, index=cluster_outliers + [\"Correct predictions\"])"
   ],
   "metadata": {
    "collapsed": false,
    "ExecuteTime": {
     "end_time": "2024-05-01T12:34:40.377783Z",
     "start_time": "2024-05-01T12:34:40.293489600Z"
    }
   },
   "id": "f62f3d8e2be74b75"
  },
  {
   "cell_type": "code",
   "execution_count": 8,
   "outputs": [
    {
     "data": {
      "text/plain": "                    skipgram w5 skipgram w10 cbow w5 pretrained\nсерада                        +            +       +          +\nзіма                          +            +       +          +\nдата                          +            +       +          +\nгод                           +            +       +          +\nастралогія                    +            +       +          +\nнараджэнне                    +            +       +          +\nмяч                           +            +       +          +\nпапера                        +            +       +          +\nCorrect predictions         8/8          8/8     8/8        8/8",
      "text/html": "<div>\n<style scoped>\n    .dataframe tbody tr th:only-of-type {\n        vertical-align: middle;\n    }\n\n    .dataframe tbody tr th {\n        vertical-align: top;\n    }\n\n    .dataframe thead th {\n        text-align: right;\n    }\n</style>\n<table border=\"1\" class=\"dataframe\">\n  <thead>\n    <tr style=\"text-align: right;\">\n      <th></th>\n      <th>skipgram w5</th>\n      <th>skipgram w10</th>\n      <th>cbow w5</th>\n      <th>pretrained</th>\n    </tr>\n  </thead>\n  <tbody>\n    <tr>\n      <th>серада</th>\n      <td>+</td>\n      <td>+</td>\n      <td>+</td>\n      <td>+</td>\n    </tr>\n    <tr>\n      <th>зіма</th>\n      <td>+</td>\n      <td>+</td>\n      <td>+</td>\n      <td>+</td>\n    </tr>\n    <tr>\n      <th>дата</th>\n      <td>+</td>\n      <td>+</td>\n      <td>+</td>\n      <td>+</td>\n    </tr>\n    <tr>\n      <th>год</th>\n      <td>+</td>\n      <td>+</td>\n      <td>+</td>\n      <td>+</td>\n    </tr>\n    <tr>\n      <th>астралогія</th>\n      <td>+</td>\n      <td>+</td>\n      <td>+</td>\n      <td>+</td>\n    </tr>\n    <tr>\n      <th>нараджэнне</th>\n      <td>+</td>\n      <td>+</td>\n      <td>+</td>\n      <td>+</td>\n    </tr>\n    <tr>\n      <th>мяч</th>\n      <td>+</td>\n      <td>+</td>\n      <td>+</td>\n      <td>+</td>\n    </tr>\n    <tr>\n      <th>папера</th>\n      <td>+</td>\n      <td>+</td>\n      <td>+</td>\n      <td>+</td>\n    </tr>\n    <tr>\n      <th>Correct predictions</th>\n      <td>8/8</td>\n      <td>8/8</td>\n      <td>8/8</td>\n      <td>8/8</td>\n    </tr>\n  </tbody>\n</table>\n</div>"
     },
     "execution_count": 8,
     "metadata": {},
     "output_type": "execute_result"
    }
   ],
   "source": [
    "cluster_elements = [\"студзень\", \"сакавік\", \"май\", \"ліпень\", \"жнівень\", \"верасень\", \"лістапад\", \"снежань\"]\n",
    "cluster_outliers = [\"серада\", \"зіма\", \"дата\", \"год\", \"астралогія\", \"нараджэнне\", \"мяч\", \"папера\"]\n",
    "\n",
    "apply_func(detect_outliers, index=cluster_outliers + [\"Correct predictions\"])"
   ],
   "metadata": {
    "collapsed": false,
    "ExecuteTime": {
     "end_time": "2024-05-01T12:34:40.437117500Z",
     "start_time": "2024-05-01T12:34:40.326911200Z"
    }
   },
   "id": "9654fba02dc8f9e0"
  },
  {
   "cell_type": "code",
   "execution_count": 9,
   "outputs": [
    {
     "data": {
      "text/plain": "                    skipgram w5 skipgram w10   cbow w5 pretrained\nмедыцына                      +            +         +          +\nмышца                  - галава     - галава         +    - палец\nшапка                  - галава     - галава  - галава          +\nадзенне                - галава            +         +          +\nфутбол                        +            +         +          +\nпраца                         +            +         +          +\nсмоўж                  - галава            +         +          +\nпланета                       +            +         +          +\nCorrect predictions         4/8          6/8       7/8        7/8",
      "text/html": "<div>\n<style scoped>\n    .dataframe tbody tr th:only-of-type {\n        vertical-align: middle;\n    }\n\n    .dataframe tbody tr th {\n        vertical-align: top;\n    }\n\n    .dataframe thead th {\n        text-align: right;\n    }\n</style>\n<table border=\"1\" class=\"dataframe\">\n  <thead>\n    <tr style=\"text-align: right;\">\n      <th></th>\n      <th>skipgram w5</th>\n      <th>skipgram w10</th>\n      <th>cbow w5</th>\n      <th>pretrained</th>\n    </tr>\n  </thead>\n  <tbody>\n    <tr>\n      <th>медыцына</th>\n      <td>+</td>\n      <td>+</td>\n      <td>+</td>\n      <td>+</td>\n    </tr>\n    <tr>\n      <th>мышца</th>\n      <td>- галава</td>\n      <td>- галава</td>\n      <td>+</td>\n      <td>- палец</td>\n    </tr>\n    <tr>\n      <th>шапка</th>\n      <td>- галава</td>\n      <td>- галава</td>\n      <td>- галава</td>\n      <td>+</td>\n    </tr>\n    <tr>\n      <th>адзенне</th>\n      <td>- галава</td>\n      <td>+</td>\n      <td>+</td>\n      <td>+</td>\n    </tr>\n    <tr>\n      <th>футбол</th>\n      <td>+</td>\n      <td>+</td>\n      <td>+</td>\n      <td>+</td>\n    </tr>\n    <tr>\n      <th>праца</th>\n      <td>+</td>\n      <td>+</td>\n      <td>+</td>\n      <td>+</td>\n    </tr>\n    <tr>\n      <th>смоўж</th>\n      <td>- галава</td>\n      <td>+</td>\n      <td>+</td>\n      <td>+</td>\n    </tr>\n    <tr>\n      <th>планета</th>\n      <td>+</td>\n      <td>+</td>\n      <td>+</td>\n      <td>+</td>\n    </tr>\n    <tr>\n      <th>Correct predictions</th>\n      <td>4/8</td>\n      <td>6/8</td>\n      <td>7/8</td>\n      <td>7/8</td>\n    </tr>\n  </tbody>\n</table>\n</div>"
     },
     "execution_count": 9,
     "metadata": {},
     "output_type": "execute_result"
    }
   ],
   "source": [
    "cluster_elements = [\"галава\", \"рука\", \"нага\", \"тулава\", \"шыя\", \"палец\", \"спіна\", \"плячо\"]\n",
    "cluster_outliers = [\"медыцына\", \"мышца\", \"шапка\", \"адзенне\", \"футбол\", \"праца\", \"смоўж\", \"планета\"]\n",
    "\n",
    "apply_func(detect_outliers, index=cluster_outliers + [\"Correct predictions\"])"
   ],
   "metadata": {
    "collapsed": false,
    "ExecuteTime": {
     "end_time": "2024-05-01T12:34:40.502982400Z",
     "start_time": "2024-05-01T12:34:40.355612300Z"
    }
   },
   "id": "3a7332e562ce770e"
  },
  {
   "cell_type": "code",
   "execution_count": 10,
   "outputs": [
    {
     "data": {
      "text/plain": "                      skipgram w5 skipgram w10       cbow w5 pretrained\nпадарунак                       +            +  - вадохрышча          +\nсвяточнасць                     +            +  - вадохрышча     - спас\nабрад                           +            +  - вадохрышча     - спас\nпрымха               - вадохрышча       - спас  - вадохрышча          +\nпрысмак                         +            +  - вадохрышча     - спас\nсузор'е              - вадохрышча       - спас  - вадохрышча     - спас\nграфін               - вадохрышча       - спас  - вадохрышча          +\nвоск                            +       - спас  - вадохрышча          +\nCorrect predictions           5/8          4/8           0/8        4/8",
      "text/html": "<div>\n<style scoped>\n    .dataframe tbody tr th:only-of-type {\n        vertical-align: middle;\n    }\n\n    .dataframe tbody tr th {\n        vertical-align: top;\n    }\n\n    .dataframe thead th {\n        text-align: right;\n    }\n</style>\n<table border=\"1\" class=\"dataframe\">\n  <thead>\n    <tr style=\"text-align: right;\">\n      <th></th>\n      <th>skipgram w5</th>\n      <th>skipgram w10</th>\n      <th>cbow w5</th>\n      <th>pretrained</th>\n    </tr>\n  </thead>\n  <tbody>\n    <tr>\n      <th>падарунак</th>\n      <td>+</td>\n      <td>+</td>\n      <td>- вадохрышча</td>\n      <td>+</td>\n    </tr>\n    <tr>\n      <th>святочнасць</th>\n      <td>+</td>\n      <td>+</td>\n      <td>- вадохрышча</td>\n      <td>- спас</td>\n    </tr>\n    <tr>\n      <th>абрад</th>\n      <td>+</td>\n      <td>+</td>\n      <td>- вадохрышча</td>\n      <td>- спас</td>\n    </tr>\n    <tr>\n      <th>прымха</th>\n      <td>- вадохрышча</td>\n      <td>- спас</td>\n      <td>- вадохрышча</td>\n      <td>+</td>\n    </tr>\n    <tr>\n      <th>прысмак</th>\n      <td>+</td>\n      <td>+</td>\n      <td>- вадохрышча</td>\n      <td>- спас</td>\n    </tr>\n    <tr>\n      <th>сузор'е</th>\n      <td>- вадохрышча</td>\n      <td>- спас</td>\n      <td>- вадохрышча</td>\n      <td>- спас</td>\n    </tr>\n    <tr>\n      <th>графін</th>\n      <td>- вадохрышча</td>\n      <td>- спас</td>\n      <td>- вадохрышча</td>\n      <td>+</td>\n    </tr>\n    <tr>\n      <th>воск</th>\n      <td>+</td>\n      <td>- спас</td>\n      <td>- вадохрышча</td>\n      <td>+</td>\n    </tr>\n    <tr>\n      <th>Correct predictions</th>\n      <td>5/8</td>\n      <td>4/8</td>\n      <td>0/8</td>\n      <td>4/8</td>\n    </tr>\n  </tbody>\n</table>\n</div>"
     },
     "execution_count": 10,
     "metadata": {},
     "output_type": "execute_result"
    }
   ],
   "source": [
    "cluster_elements = [\"масленіца\", \"купалле\", \"вялікдзень\", \"спас\", \"сёмуха\", \"вадохрышча\", \"радаўніца\", \"дажынкі\"]\n",
    "cluster_outliers = [\"падарунак\", \"святочнасць\", \"абрад\", \"прымха\", \"прысмак\", \"сузор'е\", \"графін\", \"воск\"]\n",
    "\n",
    "apply_func(detect_outliers, index=cluster_outliers + [\"Correct predictions\"])"
   ],
   "metadata": {
    "collapsed": false,
    "ExecuteTime": {
     "end_time": "2024-05-01T12:34:40.505227700Z",
     "start_time": "2024-05-01T12:34:40.385253700Z"
    }
   },
   "id": "9d24fadbd0319eca"
  },
  {
   "cell_type": "code",
   "execution_count": 11,
   "outputs": [
    {
     "data": {
      "text/plain": "                    skipgram w5 skipgram w10 cbow w5 pretrained\nвёска                         +            +       +          +\nкраіна                        +            +       +          +\nмэр                       - дом        - дом   - дом          +\nтранспарт                     +            +   - дом          +\nтурыст                    - дом     - вуліца   - дом          +\nмапа                          +            +   - дом          +\nкава                          +            +       +          +\nкрыж                          +            +       +          +\nCorrect predictions         6/8          6/8     4/8        8/8",
      "text/html": "<div>\n<style scoped>\n    .dataframe tbody tr th:only-of-type {\n        vertical-align: middle;\n    }\n\n    .dataframe tbody tr th {\n        vertical-align: top;\n    }\n\n    .dataframe thead th {\n        text-align: right;\n    }\n</style>\n<table border=\"1\" class=\"dataframe\">\n  <thead>\n    <tr style=\"text-align: right;\">\n      <th></th>\n      <th>skipgram w5</th>\n      <th>skipgram w10</th>\n      <th>cbow w5</th>\n      <th>pretrained</th>\n    </tr>\n  </thead>\n  <tbody>\n    <tr>\n      <th>вёска</th>\n      <td>+</td>\n      <td>+</td>\n      <td>+</td>\n      <td>+</td>\n    </tr>\n    <tr>\n      <th>краіна</th>\n      <td>+</td>\n      <td>+</td>\n      <td>+</td>\n      <td>+</td>\n    </tr>\n    <tr>\n      <th>мэр</th>\n      <td>- дом</td>\n      <td>- дом</td>\n      <td>- дом</td>\n      <td>+</td>\n    </tr>\n    <tr>\n      <th>транспарт</th>\n      <td>+</td>\n      <td>+</td>\n      <td>- дом</td>\n      <td>+</td>\n    </tr>\n    <tr>\n      <th>турыст</th>\n      <td>- дом</td>\n      <td>- вуліца</td>\n      <td>- дом</td>\n      <td>+</td>\n    </tr>\n    <tr>\n      <th>мапа</th>\n      <td>+</td>\n      <td>+</td>\n      <td>- дом</td>\n      <td>+</td>\n    </tr>\n    <tr>\n      <th>кава</th>\n      <td>+</td>\n      <td>+</td>\n      <td>+</td>\n      <td>+</td>\n    </tr>\n    <tr>\n      <th>крыж</th>\n      <td>+</td>\n      <td>+</td>\n      <td>+</td>\n      <td>+</td>\n    </tr>\n    <tr>\n      <th>Correct predictions</th>\n      <td>6/8</td>\n      <td>6/8</td>\n      <td>4/8</td>\n      <td>8/8</td>\n    </tr>\n  </tbody>\n</table>\n</div>"
     },
     "execution_count": 11,
     "metadata": {},
     "output_type": "execute_result"
    }
   ],
   "source": [
    "cluster_elements = [\"вуліца\", \"дом\", \"парк\", \"плошча\", \"праспект\", \"сквер\", \"завулак\", \"бульвар\"]\n",
    "cluster_outliers = [\"вёска\", \"краіна\", \"мэр\", \"транспарт\", \"турыст\", \"мапа\", \"кава\", \"крыж\"]\n",
    "\n",
    "apply_func(detect_outliers, index=cluster_outliers + [\"Correct predictions\"])"
   ],
   "metadata": {
    "collapsed": false,
    "ExecuteTime": {
     "end_time": "2024-05-01T12:34:40.511899Z",
     "start_time": "2024-05-01T12:34:40.414519600Z"
    }
   },
   "id": "a4e40851f1f830a5"
  },
  {
   "cell_type": "code",
   "execution_count": 12,
   "outputs": [
    {
     "data": {
      "text/plain": "                    skipgram w5 skipgram w10    cbow w5 pretrained\nдарога                        +            +  - самакат          +\nкола                          +            +  - самакат          +\nгорад                         +            +  - самакат          +\nквіток                 - машына            +  - самакат    - метро\nмаршрут                - машына            +  - самакат    - метро\nхуткасць                      +            +  - самакат          +\nгруша                         +            +  - самакат          +\nмесяц                         +            +  - самакат          +\nCorrect predictions         6/8          8/8        0/8        6/8",
      "text/html": "<div>\n<style scoped>\n    .dataframe tbody tr th:only-of-type {\n        vertical-align: middle;\n    }\n\n    .dataframe tbody tr th {\n        vertical-align: top;\n    }\n\n    .dataframe thead th {\n        text-align: right;\n    }\n</style>\n<table border=\"1\" class=\"dataframe\">\n  <thead>\n    <tr style=\"text-align: right;\">\n      <th></th>\n      <th>skipgram w5</th>\n      <th>skipgram w10</th>\n      <th>cbow w5</th>\n      <th>pretrained</th>\n    </tr>\n  </thead>\n  <tbody>\n    <tr>\n      <th>дарога</th>\n      <td>+</td>\n      <td>+</td>\n      <td>- самакат</td>\n      <td>+</td>\n    </tr>\n    <tr>\n      <th>кола</th>\n      <td>+</td>\n      <td>+</td>\n      <td>- самакат</td>\n      <td>+</td>\n    </tr>\n    <tr>\n      <th>горад</th>\n      <td>+</td>\n      <td>+</td>\n      <td>- самакат</td>\n      <td>+</td>\n    </tr>\n    <tr>\n      <th>квіток</th>\n      <td>- машына</td>\n      <td>+</td>\n      <td>- самакат</td>\n      <td>- метро</td>\n    </tr>\n    <tr>\n      <th>маршрут</th>\n      <td>- машына</td>\n      <td>+</td>\n      <td>- самакат</td>\n      <td>- метро</td>\n    </tr>\n    <tr>\n      <th>хуткасць</th>\n      <td>+</td>\n      <td>+</td>\n      <td>- самакат</td>\n      <td>+</td>\n    </tr>\n    <tr>\n      <th>груша</th>\n      <td>+</td>\n      <td>+</td>\n      <td>- самакат</td>\n      <td>+</td>\n    </tr>\n    <tr>\n      <th>месяц</th>\n      <td>+</td>\n      <td>+</td>\n      <td>- самакат</td>\n      <td>+</td>\n    </tr>\n    <tr>\n      <th>Correct predictions</th>\n      <td>6/8</td>\n      <td>8/8</td>\n      <td>0/8</td>\n      <td>6/8</td>\n    </tr>\n  </tbody>\n</table>\n</div>"
     },
     "execution_count": 12,
     "metadata": {},
     "output_type": "execute_result"
    }
   ],
   "source": [
    "cluster_elements = [\"аўтобус\", \"тралейбус\", \"машына\", \"трамвай\", \"метро\", \"ровар\", \"самакат\", \"матацыкл\"]\n",
    "cluster_outliers = [\"дарога\", \"кола\", \"горад\", \"квіток\", \"маршрут\", \"хуткасць\", \"груша\", \"месяц\"]\n",
    "\n",
    "apply_func(detect_outliers, index=cluster_outliers + [\"Correct predictions\"])"
   ],
   "metadata": {
    "collapsed": false,
    "ExecuteTime": {
     "end_time": "2024-05-01T12:34:40.643551200Z",
     "start_time": "2024-05-01T12:34:40.448413100Z"
    }
   },
   "id": "980c67b7a8a3c883"
  },
  {
   "cell_type": "code",
   "execution_count": 13,
   "outputs": [
    {
     "data": {
      "text/plain": "                    skipgram w5 skipgram w10    cbow w5 pretrained\nстрава                        +            +  - духоўка    - пліта\nкухар                         +            +  - духоўка          +\nпакой                         +            +  - духоўка          +\nвада                          +            +  - духоўка          +\nкватэра                       +            +  - духоўка          +\nканапа                        +            +  - духоўка    - пліта\nмарс                    - пліта      - пліта  - духоўка          +\nтрава                         +            +  - духоўка          +\nCorrect predictions         7/8          7/8        0/8        6/8",
      "text/html": "<div>\n<style scoped>\n    .dataframe tbody tr th:only-of-type {\n        vertical-align: middle;\n    }\n\n    .dataframe tbody tr th {\n        vertical-align: top;\n    }\n\n    .dataframe thead th {\n        text-align: right;\n    }\n</style>\n<table border=\"1\" class=\"dataframe\">\n  <thead>\n    <tr style=\"text-align: right;\">\n      <th></th>\n      <th>skipgram w5</th>\n      <th>skipgram w10</th>\n      <th>cbow w5</th>\n      <th>pretrained</th>\n    </tr>\n  </thead>\n  <tbody>\n    <tr>\n      <th>страва</th>\n      <td>+</td>\n      <td>+</td>\n      <td>- духоўка</td>\n      <td>- пліта</td>\n    </tr>\n    <tr>\n      <th>кухар</th>\n      <td>+</td>\n      <td>+</td>\n      <td>- духоўка</td>\n      <td>+</td>\n    </tr>\n    <tr>\n      <th>пакой</th>\n      <td>+</td>\n      <td>+</td>\n      <td>- духоўка</td>\n      <td>+</td>\n    </tr>\n    <tr>\n      <th>вада</th>\n      <td>+</td>\n      <td>+</td>\n      <td>- духоўка</td>\n      <td>+</td>\n    </tr>\n    <tr>\n      <th>кватэра</th>\n      <td>+</td>\n      <td>+</td>\n      <td>- духоўка</td>\n      <td>+</td>\n    </tr>\n    <tr>\n      <th>канапа</th>\n      <td>+</td>\n      <td>+</td>\n      <td>- духоўка</td>\n      <td>- пліта</td>\n    </tr>\n    <tr>\n      <th>марс</th>\n      <td>- пліта</td>\n      <td>- пліта</td>\n      <td>- духоўка</td>\n      <td>+</td>\n    </tr>\n    <tr>\n      <th>трава</th>\n      <td>+</td>\n      <td>+</td>\n      <td>- духоўка</td>\n      <td>+</td>\n    </tr>\n    <tr>\n      <th>Correct predictions</th>\n      <td>7/8</td>\n      <td>7/8</td>\n      <td>0/8</td>\n      <td>6/8</td>\n    </tr>\n  </tbody>\n</table>\n</div>"
     },
     "execution_count": 13,
     "metadata": {},
     "output_type": "execute_result"
    }
   ],
   "source": [
    "cluster_elements = [\"рондаль\", \"патэльня\", \"чайнік\", \"духоўка\", \"пліта\", \"тарка\", \"халадзільнік\", \"скавародка\"]\n",
    "cluster_outliers = [\"страва\", \"кухар\", \"пакой\", \"вада\", \"кватэра\", \"канапа\", \"марс\", \"трава\"]\n",
    "\n",
    "apply_func(detect_outliers, index=cluster_outliers + [\"Correct predictions\"])"
   ],
   "metadata": {
    "collapsed": false,
    "ExecuteTime": {
     "end_time": "2024-05-01T12:34:40.645551900Z",
     "start_time": "2024-05-01T12:34:40.477588400Z"
    }
   },
   "id": "ee4220ef1dd6843e"
  },
  {
   "cell_type": "code",
   "execution_count": 14,
   "outputs": [
    {
     "data": {
      "text/plain": "             Number of correctly predicted % of correctly predicted\nskipgram w5                          48/64                     75.0\nskipgram w10                         52/64                    81.25\ncbow w5                              31/64                  48.4375\npretrained                           50/64                   78.125",
      "text/html": "<div>\n<style scoped>\n    .dataframe tbody tr th:only-of-type {\n        vertical-align: middle;\n    }\n\n    .dataframe tbody tr th {\n        vertical-align: top;\n    }\n\n    .dataframe thead th {\n        text-align: right;\n    }\n</style>\n<table border=\"1\" class=\"dataframe\">\n  <thead>\n    <tr style=\"text-align: right;\">\n      <th></th>\n      <th>Number of correctly predicted</th>\n      <th>% of correctly predicted</th>\n    </tr>\n  </thead>\n  <tbody>\n    <tr>\n      <th>skipgram w5</th>\n      <td>48/64</td>\n      <td>75.0</td>\n    </tr>\n    <tr>\n      <th>skipgram w10</th>\n      <td>52/64</td>\n      <td>81.25</td>\n    </tr>\n    <tr>\n      <th>cbow w5</th>\n      <td>31/64</td>\n      <td>48.4375</td>\n    </tr>\n    <tr>\n      <th>pretrained</th>\n      <td>50/64</td>\n      <td>78.125</td>\n    </tr>\n  </tbody>\n</table>\n</div>"
     },
     "execution_count": 14,
     "metadata": {},
     "output_type": "execute_result"
    }
   ],
   "source": [
    "for col, val in outliers_stats.items():\n",
    "    outliers_stats[col] = [f\"{val}/64\", val / 64 * 100]\n",
    "\n",
    "pd.DataFrame(\n",
    "    data=outliers_stats,\n",
    "    index=[\"Number of correctly predicted\", \"% of correctly predicted\"]\n",
    ").T"
   ],
   "metadata": {
    "collapsed": false,
    "ExecuteTime": {
     "end_time": "2024-05-01T12:34:40.687597600Z",
     "start_time": "2024-05-01T12:34:40.513899400Z"
    }
   },
   "id": "1e87cdbf0aabd5ec"
  },
  {
   "cell_type": "markdown",
   "source": [
    "# Analysis\n",
    "\n",
    "#### Similarity to one word"
   ],
   "metadata": {
    "collapsed": false
   },
   "id": "cf6afce37f6174ca"
  },
  {
   "cell_type": "code",
   "execution_count": 15,
   "outputs": [
    {
     "data": {
      "text/plain": "                      skipgram w5                   skipgram w10  \\\n0      бацька: 0.8766636252403259     бацька: 0.8542380332946777   \n1       жонка: 0.8560835719108582      матка: 0.8250699639320374   \n2    нявестка: 0.8346813321113586     унучка: 0.8138112425804138   \n3       матка: 0.8244144916534424   нявестка: 0.8107252717018127   \n4      унучка: 0.8112714886665344      дачка: 0.7857580184936523   \n5       дачка: 0.8096562623977661    дачушка: 0.7850747108459473   \n6      Светка: 0.8096061944961548     брацік: 0.7834899425506592   \n7         мама: 0.806246280670166      жонка: 0.7790187001228333   \n8      брацік: 0.8024640083312988      цётка: 0.7726487517356873   \n9         сын: 0.8007441163063049        сын: 0.7709203362464905   \n10    дачушка: 0.7987381815910339       мама: 0.7698546648025513   \n11       дзіця: 0.797431230545044   Лісавета: 0.7697599530220032   \n12     мацера: 0.7961971163749695     Светка: 0.7635473012924194   \n13     матуля: 0.7924994826316833     матуля: 0.7630784511566162   \n14  нябожчыца: 0.7894049286842346      дзіця: 0.7613911628723145   \n15       цётка: 0.787394642829895  сястрычка: 0.7585527896881104   \n16     сястра: 0.7846838235855103     Людачка: 0.756360650062561   \n17    сястрычка: 0.78373122215271       Саша: 0.7556391358375549   \n18      маткі: 0.7819333076477051       маткі: 0.752877414226532   \n19        Маня: 0.778289258480072      Верка: 0.7521122097969055   \n\n                          cbow w5                          pretrained  \n0      бацька: 0.8858320713043213      маці-немкі: 0.7341005802154541  \n1       жонка: 0.8673643469810486   маці-і-мачахі: 0.7307584285736084  \n2         сын: 0.8077619075775146           маці.-: 0.726932168006897  \n3       матка: 0.7976338267326355       Шашандухт: 0.6899331212043762  \n4       дзіця: 0.7898380756378174         Сандухт: 0.6643711924552917  \n5       дачка: 0.7854682803153992     бацька-маці: 0.6442077159881592  \n6       сястра: 0.756388783454895      Мюмлы-маці: 0.6388117671012878  \n7        дзед: 0.7472432255744934           бацька: 0.636451005935669  \n8        малы: 0.7416197061538696        Багхмаці: 0.6317927241325378  \n9         муж: 0.7351961731910706       Гурандухт: 0.6307734847068787  \n10       мама: 0.7072047591209412          матулю: 0.6284866333007812  \n11     старая: 0.6997028589248657           Омаці: 0.6263293027877808  \n12  гаспадыня: 0.6970659494400024    маці-яўрэйка: 0.6233057379722595  \n13      цётка: 0.6897305250167847          гаёўку: 0.6181574463844299  \n14       баба: 0.6805787086486816    маці-рэгентка: 0.613237738609314  \n15      Ганна: 0.6796833276748657  маці-нябожчыца: 0.6125677824020386  \n16       унук: 0.6643698215484619          бацькі: 0.6098982691764832  \n17    хлопчык: 0.6634364128112793    маці-чувашкі: 0.6090230345726013  \n18      дзіцё: 0.6498839259147644       сваячніцы: 0.6029228568077087  \n19       Саша: 0.6459317803382874         Юхамаці: 0.6017602682113647  ",
      "text/html": "<div>\n<style scoped>\n    .dataframe tbody tr th:only-of-type {\n        vertical-align: middle;\n    }\n\n    .dataframe tbody tr th {\n        vertical-align: top;\n    }\n\n    .dataframe thead th {\n        text-align: right;\n    }\n</style>\n<table border=\"1\" class=\"dataframe\">\n  <thead>\n    <tr style=\"text-align: right;\">\n      <th></th>\n      <th>skipgram w5</th>\n      <th>skipgram w10</th>\n      <th>cbow w5</th>\n      <th>pretrained</th>\n    </tr>\n  </thead>\n  <tbody>\n    <tr>\n      <th>0</th>\n      <td>бацька: 0.8766636252403259</td>\n      <td>бацька: 0.8542380332946777</td>\n      <td>бацька: 0.8858320713043213</td>\n      <td>маці-немкі: 0.7341005802154541</td>\n    </tr>\n    <tr>\n      <th>1</th>\n      <td>жонка: 0.8560835719108582</td>\n      <td>матка: 0.8250699639320374</td>\n      <td>жонка: 0.8673643469810486</td>\n      <td>маці-і-мачахі: 0.7307584285736084</td>\n    </tr>\n    <tr>\n      <th>2</th>\n      <td>нявестка: 0.8346813321113586</td>\n      <td>унучка: 0.8138112425804138</td>\n      <td>сын: 0.8077619075775146</td>\n      <td>маці.-: 0.726932168006897</td>\n    </tr>\n    <tr>\n      <th>3</th>\n      <td>матка: 0.8244144916534424</td>\n      <td>нявестка: 0.8107252717018127</td>\n      <td>матка: 0.7976338267326355</td>\n      <td>Шашандухт: 0.6899331212043762</td>\n    </tr>\n    <tr>\n      <th>4</th>\n      <td>унучка: 0.8112714886665344</td>\n      <td>дачка: 0.7857580184936523</td>\n      <td>дзіця: 0.7898380756378174</td>\n      <td>Сандухт: 0.6643711924552917</td>\n    </tr>\n    <tr>\n      <th>5</th>\n      <td>дачка: 0.8096562623977661</td>\n      <td>дачушка: 0.7850747108459473</td>\n      <td>дачка: 0.7854682803153992</td>\n      <td>бацька-маці: 0.6442077159881592</td>\n    </tr>\n    <tr>\n      <th>6</th>\n      <td>Светка: 0.8096061944961548</td>\n      <td>брацік: 0.7834899425506592</td>\n      <td>сястра: 0.756388783454895</td>\n      <td>Мюмлы-маці: 0.6388117671012878</td>\n    </tr>\n    <tr>\n      <th>7</th>\n      <td>мама: 0.806246280670166</td>\n      <td>жонка: 0.7790187001228333</td>\n      <td>дзед: 0.7472432255744934</td>\n      <td>бацька: 0.636451005935669</td>\n    </tr>\n    <tr>\n      <th>8</th>\n      <td>брацік: 0.8024640083312988</td>\n      <td>цётка: 0.7726487517356873</td>\n      <td>малы: 0.7416197061538696</td>\n      <td>Багхмаці: 0.6317927241325378</td>\n    </tr>\n    <tr>\n      <th>9</th>\n      <td>сын: 0.8007441163063049</td>\n      <td>сын: 0.7709203362464905</td>\n      <td>муж: 0.7351961731910706</td>\n      <td>Гурандухт: 0.6307734847068787</td>\n    </tr>\n    <tr>\n      <th>10</th>\n      <td>дачушка: 0.7987381815910339</td>\n      <td>мама: 0.7698546648025513</td>\n      <td>мама: 0.7072047591209412</td>\n      <td>матулю: 0.6284866333007812</td>\n    </tr>\n    <tr>\n      <th>11</th>\n      <td>дзіця: 0.797431230545044</td>\n      <td>Лісавета: 0.7697599530220032</td>\n      <td>старая: 0.6997028589248657</td>\n      <td>Омаці: 0.6263293027877808</td>\n    </tr>\n    <tr>\n      <th>12</th>\n      <td>мацера: 0.7961971163749695</td>\n      <td>Светка: 0.7635473012924194</td>\n      <td>гаспадыня: 0.6970659494400024</td>\n      <td>маці-яўрэйка: 0.6233057379722595</td>\n    </tr>\n    <tr>\n      <th>13</th>\n      <td>матуля: 0.7924994826316833</td>\n      <td>матуля: 0.7630784511566162</td>\n      <td>цётка: 0.6897305250167847</td>\n      <td>гаёўку: 0.6181574463844299</td>\n    </tr>\n    <tr>\n      <th>14</th>\n      <td>нябожчыца: 0.7894049286842346</td>\n      <td>дзіця: 0.7613911628723145</td>\n      <td>баба: 0.6805787086486816</td>\n      <td>маці-рэгентка: 0.613237738609314</td>\n    </tr>\n    <tr>\n      <th>15</th>\n      <td>цётка: 0.787394642829895</td>\n      <td>сястрычка: 0.7585527896881104</td>\n      <td>Ганна: 0.6796833276748657</td>\n      <td>маці-нябожчыца: 0.6125677824020386</td>\n    </tr>\n    <tr>\n      <th>16</th>\n      <td>сястра: 0.7846838235855103</td>\n      <td>Людачка: 0.756360650062561</td>\n      <td>унук: 0.6643698215484619</td>\n      <td>бацькі: 0.6098982691764832</td>\n    </tr>\n    <tr>\n      <th>17</th>\n      <td>сястрычка: 0.78373122215271</td>\n      <td>Саша: 0.7556391358375549</td>\n      <td>хлопчык: 0.6634364128112793</td>\n      <td>маці-чувашкі: 0.6090230345726013</td>\n    </tr>\n    <tr>\n      <th>18</th>\n      <td>маткі: 0.7819333076477051</td>\n      <td>маткі: 0.752877414226532</td>\n      <td>дзіцё: 0.6498839259147644</td>\n      <td>сваячніцы: 0.6029228568077087</td>\n    </tr>\n    <tr>\n      <th>19</th>\n      <td>Маня: 0.778289258480072</td>\n      <td>Верка: 0.7521122097969055</td>\n      <td>Саша: 0.6459317803382874</td>\n      <td>Юхамаці: 0.6017602682113647</td>\n    </tr>\n  </tbody>\n</table>\n</div>"
     },
     "execution_count": 15,
     "metadata": {},
     "output_type": "execute_result"
    }
   ],
   "source": [
    "apply_func(\n",
    "    lambda x, _: x.most_similar([\"маці\"], topn=20)\n",
    ")"
   ],
   "metadata": {
    "collapsed": false,
    "ExecuteTime": {
     "end_time": "2024-05-01T12:34:41.084029800Z",
     "start_time": "2024-05-01T12:34:40.525861500Z"
    }
   },
   "id": "9c978615fdde2d3b"
  },
  {
   "cell_type": "code",
   "execution_count": 16,
   "outputs": [
    {
     "data": {
      "text/plain": "                          skipgram w5                        skipgram w10  \\\n0         партыец: 0.8713955879211426          крытык: 0.8684261441230774   \n1          крытык: 0.8697142004966736           дзеяч: 0.8519879579544067   \n2       пісьменнік: 0.869478166103363      правакацыя: 0.8459656238555908   \n3        акадэмік: 0.8548937439918518      таленавіты: 0.8400018811225891   \n4         празаік: 0.8547191619873047        дэтэктыў: 0.8394523859024048   \n5           дзеяч: 0.8544794917106628          класік: 0.8388006091117859   \n6    інтэлігенцыя: 0.8540493845939636       папулярны: 0.8384833931922913   \n7      таленавіты: 0.8507794737815857        журналіст: 0.836736261844635   \n8      інтэлігент: 0.8494454622268677         партыец: 0.8356762528419495   \n9       крамольнік: 0.848173975944519         празаік: 0.8336595296859741   \n10           п’ес: 0.8459125757217407        акадэмік: 0.8330079317092896   \n11   канфедэрацыя: 0.8445204496383667    чарнасоценны: 0.8326829671859741   \n12       журналіст: 0.844377338886261            Акула: 0.830980122089386   \n13  самадзейнасць: 0.8441008925437927       пісьменны: 0.8307892680168152   \n14        француз: 0.8432961106300354       даследчык: 0.8298056721687317   \n15    эксперымент: 0.8429038524627686            п’ес: 0.8294252753257751   \n16     матэматыка: 0.8421785831451416     аўтарытэтны: 0.8280073404312134   \n17       чыноўнік: 0.8414996266365051       складанне: 0.8279908895492554   \n18          Бэндэ: 0.8410031795501709  нацыянальнасць: 0.8277469873428345   \n19      літаратар: 0.8408659100532532      псіхалогія: 0.8266385197639465   \n\n                             cbow w5                           pretrained  \n0       работнік: 0.9049365520477295         невучоны: 0.7828152179718018  \n1      пісьменнік: 0.904116690158844     вучоны-фiзiк: 0.7132922410964966  \n2           паэт: 0.8982222676277161     вучоны-медык: 0.7085844874382019  \n3      бальшавік: 0.8926443457603455     вучоны-хiмiк: 0.6963252425193787  \n4        адукацыя: 0.890635073184967   савецкі-вучоны: 0.6960341930389404  \n5          дзеяч: 0.8903725147247314     вучоны-езуiт: 0.6909222602844238  \n6          аўтар: 0.8873587250709534     вучоны-езуіт: 0.6841995716094971  \n7       эмігрант: 0.8820002675056458  вучоны-імунолаг: 0.6814020872116089  \n8          агент: 0.8790002465248108   вучоны-фiлосаф: 0.6709549427032471  \n9   інтэлігенцыя: 0.8749860525131226   вучоны-славіст: 0.6671708226203918  \n10       выдатны: 0.8740216493606567     вучоны-хімік: 0.6648406982421875  \n11         навука: 0.872098445892334    вучоны-заолаг: 0.6639073491096497  \n12      партыйны: 0.8706574440002441    вучоны-біёлаг: 0.6618167161941528  \n13      літаратар: 0.870422899723053  вучоны-альголаг: 0.6608567833900452  \n14       крытыка: 0.8695288896560669  вучоны-гістолаг: 0.6607319712638855  \n15         герой: 0.8685691356658936  вучоны-біяфізік: 0.6585379242897034  \n16     творчасць: 0.8652700185775757   вучоны-лесавод: 0.6566811203956604  \n17         паляк: 0.8631700873374939    вучоны-геолаг: 0.6552932262420654  \n18      кіраўнік: 0.8628554940223694     вучоны-фізік: 0.6517669558525085  \n19   прадстаўнік: 0.8621012568473816   вучоны-міколаг: 0.6478527188301086  ",
      "text/html": "<div>\n<style scoped>\n    .dataframe tbody tr th:only-of-type {\n        vertical-align: middle;\n    }\n\n    .dataframe tbody tr th {\n        vertical-align: top;\n    }\n\n    .dataframe thead th {\n        text-align: right;\n    }\n</style>\n<table border=\"1\" class=\"dataframe\">\n  <thead>\n    <tr style=\"text-align: right;\">\n      <th></th>\n      <th>skipgram w5</th>\n      <th>skipgram w10</th>\n      <th>cbow w5</th>\n      <th>pretrained</th>\n    </tr>\n  </thead>\n  <tbody>\n    <tr>\n      <th>0</th>\n      <td>партыец: 0.8713955879211426</td>\n      <td>крытык: 0.8684261441230774</td>\n      <td>работнік: 0.9049365520477295</td>\n      <td>невучоны: 0.7828152179718018</td>\n    </tr>\n    <tr>\n      <th>1</th>\n      <td>крытык: 0.8697142004966736</td>\n      <td>дзеяч: 0.8519879579544067</td>\n      <td>пісьменнік: 0.904116690158844</td>\n      <td>вучоны-фiзiк: 0.7132922410964966</td>\n    </tr>\n    <tr>\n      <th>2</th>\n      <td>пісьменнік: 0.869478166103363</td>\n      <td>правакацыя: 0.8459656238555908</td>\n      <td>паэт: 0.8982222676277161</td>\n      <td>вучоны-медык: 0.7085844874382019</td>\n    </tr>\n    <tr>\n      <th>3</th>\n      <td>акадэмік: 0.8548937439918518</td>\n      <td>таленавіты: 0.8400018811225891</td>\n      <td>бальшавік: 0.8926443457603455</td>\n      <td>вучоны-хiмiк: 0.6963252425193787</td>\n    </tr>\n    <tr>\n      <th>4</th>\n      <td>празаік: 0.8547191619873047</td>\n      <td>дэтэктыў: 0.8394523859024048</td>\n      <td>адукацыя: 0.890635073184967</td>\n      <td>савецкі-вучоны: 0.6960341930389404</td>\n    </tr>\n    <tr>\n      <th>5</th>\n      <td>дзеяч: 0.8544794917106628</td>\n      <td>класік: 0.8388006091117859</td>\n      <td>дзеяч: 0.8903725147247314</td>\n      <td>вучоны-езуiт: 0.6909222602844238</td>\n    </tr>\n    <tr>\n      <th>6</th>\n      <td>інтэлігенцыя: 0.8540493845939636</td>\n      <td>папулярны: 0.8384833931922913</td>\n      <td>аўтар: 0.8873587250709534</td>\n      <td>вучоны-езуіт: 0.6841995716094971</td>\n    </tr>\n    <tr>\n      <th>7</th>\n      <td>таленавіты: 0.8507794737815857</td>\n      <td>журналіст: 0.836736261844635</td>\n      <td>эмігрант: 0.8820002675056458</td>\n      <td>вучоны-імунолаг: 0.6814020872116089</td>\n    </tr>\n    <tr>\n      <th>8</th>\n      <td>інтэлігент: 0.8494454622268677</td>\n      <td>партыец: 0.8356762528419495</td>\n      <td>агент: 0.8790002465248108</td>\n      <td>вучоны-фiлосаф: 0.6709549427032471</td>\n    </tr>\n    <tr>\n      <th>9</th>\n      <td>крамольнік: 0.848173975944519</td>\n      <td>празаік: 0.8336595296859741</td>\n      <td>інтэлігенцыя: 0.8749860525131226</td>\n      <td>вучоны-славіст: 0.6671708226203918</td>\n    </tr>\n    <tr>\n      <th>10</th>\n      <td>п’ес: 0.8459125757217407</td>\n      <td>акадэмік: 0.8330079317092896</td>\n      <td>выдатны: 0.8740216493606567</td>\n      <td>вучоны-хімік: 0.6648406982421875</td>\n    </tr>\n    <tr>\n      <th>11</th>\n      <td>канфедэрацыя: 0.8445204496383667</td>\n      <td>чарнасоценны: 0.8326829671859741</td>\n      <td>навука: 0.872098445892334</td>\n      <td>вучоны-заолаг: 0.6639073491096497</td>\n    </tr>\n    <tr>\n      <th>12</th>\n      <td>журналіст: 0.844377338886261</td>\n      <td>Акула: 0.830980122089386</td>\n      <td>партыйны: 0.8706574440002441</td>\n      <td>вучоны-біёлаг: 0.6618167161941528</td>\n    </tr>\n    <tr>\n      <th>13</th>\n      <td>самадзейнасць: 0.8441008925437927</td>\n      <td>пісьменны: 0.8307892680168152</td>\n      <td>літаратар: 0.870422899723053</td>\n      <td>вучоны-альголаг: 0.6608567833900452</td>\n    </tr>\n    <tr>\n      <th>14</th>\n      <td>француз: 0.8432961106300354</td>\n      <td>даследчык: 0.8298056721687317</td>\n      <td>крытыка: 0.8695288896560669</td>\n      <td>вучоны-гістолаг: 0.6607319712638855</td>\n    </tr>\n    <tr>\n      <th>15</th>\n      <td>эксперымент: 0.8429038524627686</td>\n      <td>п’ес: 0.8294252753257751</td>\n      <td>герой: 0.8685691356658936</td>\n      <td>вучоны-біяфізік: 0.6585379242897034</td>\n    </tr>\n    <tr>\n      <th>16</th>\n      <td>матэматыка: 0.8421785831451416</td>\n      <td>аўтарытэтны: 0.8280073404312134</td>\n      <td>творчасць: 0.8652700185775757</td>\n      <td>вучоны-лесавод: 0.6566811203956604</td>\n    </tr>\n    <tr>\n      <th>17</th>\n      <td>чыноўнік: 0.8414996266365051</td>\n      <td>складанне: 0.8279908895492554</td>\n      <td>паляк: 0.8631700873374939</td>\n      <td>вучоны-геолаг: 0.6552932262420654</td>\n    </tr>\n    <tr>\n      <th>18</th>\n      <td>Бэндэ: 0.8410031795501709</td>\n      <td>нацыянальнасць: 0.8277469873428345</td>\n      <td>кіраўнік: 0.8628554940223694</td>\n      <td>вучоны-фізік: 0.6517669558525085</td>\n    </tr>\n    <tr>\n      <th>19</th>\n      <td>літаратар: 0.8408659100532532</td>\n      <td>псіхалогія: 0.8266385197639465</td>\n      <td>прадстаўнік: 0.8621012568473816</td>\n      <td>вучоны-міколаг: 0.6478527188301086</td>\n    </tr>\n  </tbody>\n</table>\n</div>"
     },
     "execution_count": 16,
     "metadata": {},
     "output_type": "execute_result"
    }
   ],
   "source": [
    "apply_func(\n",
    "    lambda x, _: x.most_similar([\"вучоны\"], topn=20)\n",
    ")"
   ],
   "metadata": {
    "collapsed": false,
    "ExecuteTime": {
     "end_time": "2024-05-01T12:34:41.312345Z",
     "start_time": "2024-05-01T12:34:40.851373400Z"
    }
   },
   "id": "5737fbfe539e73b3"
  },
  {
   "cell_type": "code",
   "execution_count": 17,
   "outputs": [
    {
     "data": {
      "text/plain": "                         skipgram w5                      skipgram w10  \\\n0   інтэлігентны: 0.7538114786148071       убранне: 0.7538516521453857   \n1       прывабны: 0.7493212819099426      прычоска: 0.7517766356468201   \n2         харошы: 0.7461376786231995           гожы: 0.750282347202301   \n3        убранне: 0.7410526871681213        сціплы: 0.7488327026367188   \n4       прычоска: 0.7388331890106201     прыгажуня: 0.7451572418212891   \n5          сціплы: 0.737297534942627      сінявокі: 0.7305049896240234   \n6   светлавалосы: 0.7347528338432312    сімпатычны: 0.7296237349510193   \n7           гожы: 0.7318159937858582       ганарысты: 0.72943514585495   \n8     сімпатычны: 0.7300323843955994     усмешлівы: 0.7265523076057434   \n9      непрыгожы: 0.7264258861541748     маладжавы: 0.7258691787719727   \n10       цудоўны: 0.7241685390472412  інтэлігентны: 0.7239004969596863   \n11         пышны: 0.7187512516975403       стройны: 0.7225456833839417   \n12  жыццярадасны: 0.7186083197593689       красуня: 0.7201455235481262   \n13       зграбны: 0.7180466651916504      пасаваць: 0.7177901864051819   \n14      дзівосна: 0.7174137830734253      прывабны: 0.7150261402130127   \n15       павабны: 0.7158820629119873       зграбны: 0.7142205238342285   \n16          убор: 0.7155585289001465  светлавалосы: 0.7136987447738647   \n17      прыветны: 0.7155150175094604      прыветны: 0.7133104801177979   \n18       стройны: 0.7152276039123535    бездакорны: 0.7125366926193237   \n19     прыгажуня: 0.7137625217437744        румяны: 0.7118639349937439   \n\n                             cbow w5                      pretrained  \n0         сціплы: 0.7470298409461975    прыгожыю: 0.7629463076591492  \n1   дамавітаваць: 0.7358946204185486    непрыгожы: 0.756121814250946  \n2          вясёлы: 0.735693097114563   Непрыгожы: 0.7520151734352112  \n3        надзіва: 0.7283241748809814    прыгожымi: 0.733957827091217  \n4         суровы: 0.7261638641357422   прыгожым.: 0.7322680354118347  \n5         светлы: 0.7260852456092834      прыгож: 0.6918627619743347  \n6           гожы: 0.7202317118644714      прыгож-: 0.686297595500946  \n7      маладжавы: 0.7151607275009155     прыгожу: 0.6600285768508911  \n8      далікатны: 0.7142751812934875    прыгожа.: 0.6257501840591431  \n9      хударлявы: 0.7121385931968689     Прыгожы: 0.6182975172996521  \n10        рухавы: 0.7105680108070374   Упрыгожыў: 0.6182281374931335  \n11      прывабны: 0.7089173793792725    прыгожаю: 0.6066910028457642  \n12  інтэлігентны: 0.7083742618560791    прыгожыя: 0.6055240631103516  \n13     невыказна: 0.7077005505561829   прыгожай.: 0.5991552472114563  \n14      маленькі: 0.7016717195510864    прыгожым: 0.5951884984970093  \n15          юнак: 0.7015365362167358     цудоўны: 0.5818134546279907  \n16     надзвычай: 0.7014251351356506     шыкоўны: 0.5729100108146667  \n17         наіўны: 0.697252631187439  Ўпрыгожыць: 0.5718966722488403  \n18          кеша: 0.6927021741867065  непрыгожым: 0.5697149634361267  \n19    неспяшлівы: 0.6917333006858826    прыгожымі: 0.565156102180481  ",
      "text/html": "<div>\n<style scoped>\n    .dataframe tbody tr th:only-of-type {\n        vertical-align: middle;\n    }\n\n    .dataframe tbody tr th {\n        vertical-align: top;\n    }\n\n    .dataframe thead th {\n        text-align: right;\n    }\n</style>\n<table border=\"1\" class=\"dataframe\">\n  <thead>\n    <tr style=\"text-align: right;\">\n      <th></th>\n      <th>skipgram w5</th>\n      <th>skipgram w10</th>\n      <th>cbow w5</th>\n      <th>pretrained</th>\n    </tr>\n  </thead>\n  <tbody>\n    <tr>\n      <th>0</th>\n      <td>інтэлігентны: 0.7538114786148071</td>\n      <td>убранне: 0.7538516521453857</td>\n      <td>сціплы: 0.7470298409461975</td>\n      <td>прыгожыю: 0.7629463076591492</td>\n    </tr>\n    <tr>\n      <th>1</th>\n      <td>прывабны: 0.7493212819099426</td>\n      <td>прычоска: 0.7517766356468201</td>\n      <td>дамавітаваць: 0.7358946204185486</td>\n      <td>непрыгожы: 0.756121814250946</td>\n    </tr>\n    <tr>\n      <th>2</th>\n      <td>харошы: 0.7461376786231995</td>\n      <td>гожы: 0.750282347202301</td>\n      <td>вясёлы: 0.735693097114563</td>\n      <td>Непрыгожы: 0.7520151734352112</td>\n    </tr>\n    <tr>\n      <th>3</th>\n      <td>убранне: 0.7410526871681213</td>\n      <td>сціплы: 0.7488327026367188</td>\n      <td>надзіва: 0.7283241748809814</td>\n      <td>прыгожымi: 0.733957827091217</td>\n    </tr>\n    <tr>\n      <th>4</th>\n      <td>прычоска: 0.7388331890106201</td>\n      <td>прыгажуня: 0.7451572418212891</td>\n      <td>суровы: 0.7261638641357422</td>\n      <td>прыгожым.: 0.7322680354118347</td>\n    </tr>\n    <tr>\n      <th>5</th>\n      <td>сціплы: 0.737297534942627</td>\n      <td>сінявокі: 0.7305049896240234</td>\n      <td>светлы: 0.7260852456092834</td>\n      <td>прыгож: 0.6918627619743347</td>\n    </tr>\n    <tr>\n      <th>6</th>\n      <td>светлавалосы: 0.7347528338432312</td>\n      <td>сімпатычны: 0.7296237349510193</td>\n      <td>гожы: 0.7202317118644714</td>\n      <td>прыгож-: 0.686297595500946</td>\n    </tr>\n    <tr>\n      <th>7</th>\n      <td>гожы: 0.7318159937858582</td>\n      <td>ганарысты: 0.72943514585495</td>\n      <td>маладжавы: 0.7151607275009155</td>\n      <td>прыгожу: 0.6600285768508911</td>\n    </tr>\n    <tr>\n      <th>8</th>\n      <td>сімпатычны: 0.7300323843955994</td>\n      <td>усмешлівы: 0.7265523076057434</td>\n      <td>далікатны: 0.7142751812934875</td>\n      <td>прыгожа.: 0.6257501840591431</td>\n    </tr>\n    <tr>\n      <th>9</th>\n      <td>непрыгожы: 0.7264258861541748</td>\n      <td>маладжавы: 0.7258691787719727</td>\n      <td>хударлявы: 0.7121385931968689</td>\n      <td>Прыгожы: 0.6182975172996521</td>\n    </tr>\n    <tr>\n      <th>10</th>\n      <td>цудоўны: 0.7241685390472412</td>\n      <td>інтэлігентны: 0.7239004969596863</td>\n      <td>рухавы: 0.7105680108070374</td>\n      <td>Упрыгожыў: 0.6182281374931335</td>\n    </tr>\n    <tr>\n      <th>11</th>\n      <td>пышны: 0.7187512516975403</td>\n      <td>стройны: 0.7225456833839417</td>\n      <td>прывабны: 0.7089173793792725</td>\n      <td>прыгожаю: 0.6066910028457642</td>\n    </tr>\n    <tr>\n      <th>12</th>\n      <td>жыццярадасны: 0.7186083197593689</td>\n      <td>красуня: 0.7201455235481262</td>\n      <td>інтэлігентны: 0.7083742618560791</td>\n      <td>прыгожыя: 0.6055240631103516</td>\n    </tr>\n    <tr>\n      <th>13</th>\n      <td>зграбны: 0.7180466651916504</td>\n      <td>пасаваць: 0.7177901864051819</td>\n      <td>невыказна: 0.7077005505561829</td>\n      <td>прыгожай.: 0.5991552472114563</td>\n    </tr>\n    <tr>\n      <th>14</th>\n      <td>дзівосна: 0.7174137830734253</td>\n      <td>прывабны: 0.7150261402130127</td>\n      <td>маленькі: 0.7016717195510864</td>\n      <td>прыгожым: 0.5951884984970093</td>\n    </tr>\n    <tr>\n      <th>15</th>\n      <td>павабны: 0.7158820629119873</td>\n      <td>зграбны: 0.7142205238342285</td>\n      <td>юнак: 0.7015365362167358</td>\n      <td>цудоўны: 0.5818134546279907</td>\n    </tr>\n    <tr>\n      <th>16</th>\n      <td>убор: 0.7155585289001465</td>\n      <td>светлавалосы: 0.7136987447738647</td>\n      <td>надзвычай: 0.7014251351356506</td>\n      <td>шыкоўны: 0.5729100108146667</td>\n    </tr>\n    <tr>\n      <th>17</th>\n      <td>прыветны: 0.7155150175094604</td>\n      <td>прыветны: 0.7133104801177979</td>\n      <td>наіўны: 0.697252631187439</td>\n      <td>Ўпрыгожыць: 0.5718966722488403</td>\n    </tr>\n    <tr>\n      <th>18</th>\n      <td>стройны: 0.7152276039123535</td>\n      <td>бездакорны: 0.7125366926193237</td>\n      <td>кеша: 0.6927021741867065</td>\n      <td>непрыгожым: 0.5697149634361267</td>\n    </tr>\n    <tr>\n      <th>19</th>\n      <td>прыгажуня: 0.7137625217437744</td>\n      <td>румяны: 0.7118639349937439</td>\n      <td>неспяшлівы: 0.6917333006858826</td>\n      <td>прыгожымі: 0.565156102180481</td>\n    </tr>\n  </tbody>\n</table>\n</div>"
     },
     "execution_count": 17,
     "metadata": {},
     "output_type": "execute_result"
    }
   ],
   "source": [
    "apply_func(\n",
    "    lambda x, _: x.most_similar([\"прыгожы\"], topn=20)\n",
    ")"
   ],
   "metadata": {
    "collapsed": false,
    "ExecuteTime": {
     "end_time": "2024-05-01T12:34:41.513557300Z",
     "start_time": "2024-05-01T12:34:41.146761900Z"
    }
   },
   "id": "1efa6a72e95203e8"
  },
  {
   "cell_type": "code",
   "execution_count": 18,
   "outputs": [
    {
     "data": {
      "text/plain": "                         skipgram w5                      skipgram w10  \\\n0     шаснаццаць: 0.9279336929321289  чатырнаццаць: 0.8911280035972595   \n1   васемнаццаць: 0.9275397062301636    семнаццаць: 0.8886259198188782   \n2   чатырнаццаць: 0.9269293546676636           гок: 0.8833463191986084   \n3         дзевяць: 0.925966203212738       дзевяць: 0.8822671175003052   \n4     семнаццаць: 0.9246982932090759    праслужыць: 0.8762643933296204   \n5       чатырыста: 0.919135570526123        восьмы: 0.8753341436386108   \n6     трынаццаць: 0.9149125218391418  васемнаццаць: 0.8729905486106873   \n7    адзінаццаты: 0.9129078388214111         шосты: 0.8728602528572083   \n8          сорак: 0.9119332432746887    шаснаццаць: 0.8696613907814026   \n9     дзевяноста: 0.9116633534431458    трынаццаць: 0.8692251443862915   \n10        восьмы: 0.9108083248138428     споўніцца: 0.8666729927062988   \n11    праслужыць: 0.9064716696739197           восем: 0.86592036485672   \n12       дзевяты: 0.9053551554679871    дзевяцьсот: 0.8630911111831665   \n13         восем: 0.9020870327949524        семсот: 0.8627634644508362   \n14        семсот: 0.9010699987411499    дзевяноста: 0.8608607053756714   \n15           гок: 0.9002608060836792       прабыць: 0.8606678247451782   \n16    сямнаццаць: 0.8988263607025146      восемсот: 0.8601759076118469   \n17      восемсот: 0.8969276547431946    пятнаццаты: 0.8553496599197388   \n18   шэсцьдзесят: 0.8967174887657166     чатырыста: 0.8549561500549316   \n19    шаснаццаты: 0.8965821862220764      налічыць: 0.8540505170822144   \n\n                             cbow w5                               pretrained  \n0        дзевяць: 0.9566066861152649           адзінаццацю: 0.701328456401825  \n1          сорак: 0.9525117874145508              наццаць: 0.6992630958557129  \n2           восем: 0.937562882900238          Адзінаццаць: 0.6875142455101013  \n3     семнаццаць: 0.9298513531684875            двенаццаць: 0.663983166217804  \n4   васемнаццаць: 0.9246838092803955             мнаццаць: 0.6573565602302551  \n5     пятнаццаць: 0.9217433929443359           Шаснаццаць: 0.6406635642051697  \n6     шаснаццаць: 0.9208481311798096          дзвенаццаць: 0.6289210915565491  \n7     дванаццаць: 0.9149121642112732                 пяць: 0.6240526437759399  \n8        паўтара: 0.9143983721733093          чатырнаццаць: 0.621525764465332  \n9       трыццаць: 0.9134524464607239           семнаццаць: 0.6173511743545532  \n10         шэсць: 0.9069589972496033           Семнаццаць: 0.6128923892974854  \n11        восьмы: 0.9056296944618225           дванаццаць: 0.6128654479980469  \n12   восемдзесят: 0.9042474627494812           трынаццаць: 0.6102716326713562  \n13     чатырыста: 0.9005810022354126   скарбаўАдзінаццаць: 0.6062384843826294  \n14     семдзесят: 0.8961304426193237     адзінаццацігодак: 0.6045227646827698  \n15    дзевяноста: 0.8958460092544556   дзесяць-дванаццаць: 0.6032377481460571  \n16       дваццаць: 0.895477831363678  пятнаццаць-дваццаць: 0.6019014716148376  \n17   шэсцьдзесят: 0.8945768475532532          адзiнаццаць: 0.5948761105537415  \n18          1943: 0.8921195864677429          адзінаццаці: 0.5909479260444641  \n19          1942: 0.8916013240814209   Дваццацьшаснаццаць: 0.5881300568580627  ",
      "text/html": "<div>\n<style scoped>\n    .dataframe tbody tr th:only-of-type {\n        vertical-align: middle;\n    }\n\n    .dataframe tbody tr th {\n        vertical-align: top;\n    }\n\n    .dataframe thead th {\n        text-align: right;\n    }\n</style>\n<table border=\"1\" class=\"dataframe\">\n  <thead>\n    <tr style=\"text-align: right;\">\n      <th></th>\n      <th>skipgram w5</th>\n      <th>skipgram w10</th>\n      <th>cbow w5</th>\n      <th>pretrained</th>\n    </tr>\n  </thead>\n  <tbody>\n    <tr>\n      <th>0</th>\n      <td>шаснаццаць: 0.9279336929321289</td>\n      <td>чатырнаццаць: 0.8911280035972595</td>\n      <td>дзевяць: 0.9566066861152649</td>\n      <td>адзінаццацю: 0.701328456401825</td>\n    </tr>\n    <tr>\n      <th>1</th>\n      <td>васемнаццаць: 0.9275397062301636</td>\n      <td>семнаццаць: 0.8886259198188782</td>\n      <td>сорак: 0.9525117874145508</td>\n      <td>наццаць: 0.6992630958557129</td>\n    </tr>\n    <tr>\n      <th>2</th>\n      <td>чатырнаццаць: 0.9269293546676636</td>\n      <td>гок: 0.8833463191986084</td>\n      <td>восем: 0.937562882900238</td>\n      <td>Адзінаццаць: 0.6875142455101013</td>\n    </tr>\n    <tr>\n      <th>3</th>\n      <td>дзевяць: 0.925966203212738</td>\n      <td>дзевяць: 0.8822671175003052</td>\n      <td>семнаццаць: 0.9298513531684875</td>\n      <td>двенаццаць: 0.663983166217804</td>\n    </tr>\n    <tr>\n      <th>4</th>\n      <td>семнаццаць: 0.9246982932090759</td>\n      <td>праслужыць: 0.8762643933296204</td>\n      <td>васемнаццаць: 0.9246838092803955</td>\n      <td>мнаццаць: 0.6573565602302551</td>\n    </tr>\n    <tr>\n      <th>5</th>\n      <td>чатырыста: 0.919135570526123</td>\n      <td>восьмы: 0.8753341436386108</td>\n      <td>пятнаццаць: 0.9217433929443359</td>\n      <td>Шаснаццаць: 0.6406635642051697</td>\n    </tr>\n    <tr>\n      <th>6</th>\n      <td>трынаццаць: 0.9149125218391418</td>\n      <td>васемнаццаць: 0.8729905486106873</td>\n      <td>шаснаццаць: 0.9208481311798096</td>\n      <td>дзвенаццаць: 0.6289210915565491</td>\n    </tr>\n    <tr>\n      <th>7</th>\n      <td>адзінаццаты: 0.9129078388214111</td>\n      <td>шосты: 0.8728602528572083</td>\n      <td>дванаццаць: 0.9149121642112732</td>\n      <td>пяць: 0.6240526437759399</td>\n    </tr>\n    <tr>\n      <th>8</th>\n      <td>сорак: 0.9119332432746887</td>\n      <td>шаснаццаць: 0.8696613907814026</td>\n      <td>паўтара: 0.9143983721733093</td>\n      <td>чатырнаццаць: 0.621525764465332</td>\n    </tr>\n    <tr>\n      <th>9</th>\n      <td>дзевяноста: 0.9116633534431458</td>\n      <td>трынаццаць: 0.8692251443862915</td>\n      <td>трыццаць: 0.9134524464607239</td>\n      <td>семнаццаць: 0.6173511743545532</td>\n    </tr>\n    <tr>\n      <th>10</th>\n      <td>восьмы: 0.9108083248138428</td>\n      <td>споўніцца: 0.8666729927062988</td>\n      <td>шэсць: 0.9069589972496033</td>\n      <td>Семнаццаць: 0.6128923892974854</td>\n    </tr>\n    <tr>\n      <th>11</th>\n      <td>праслужыць: 0.9064716696739197</td>\n      <td>восем: 0.86592036485672</td>\n      <td>восьмы: 0.9056296944618225</td>\n      <td>дванаццаць: 0.6128654479980469</td>\n    </tr>\n    <tr>\n      <th>12</th>\n      <td>дзевяты: 0.9053551554679871</td>\n      <td>дзевяцьсот: 0.8630911111831665</td>\n      <td>восемдзесят: 0.9042474627494812</td>\n      <td>трынаццаць: 0.6102716326713562</td>\n    </tr>\n    <tr>\n      <th>13</th>\n      <td>восем: 0.9020870327949524</td>\n      <td>семсот: 0.8627634644508362</td>\n      <td>чатырыста: 0.9005810022354126</td>\n      <td>скарбаўАдзінаццаць: 0.6062384843826294</td>\n    </tr>\n    <tr>\n      <th>14</th>\n      <td>семсот: 0.9010699987411499</td>\n      <td>дзевяноста: 0.8608607053756714</td>\n      <td>семдзесят: 0.8961304426193237</td>\n      <td>адзінаццацігодак: 0.6045227646827698</td>\n    </tr>\n    <tr>\n      <th>15</th>\n      <td>гок: 0.9002608060836792</td>\n      <td>прабыць: 0.8606678247451782</td>\n      <td>дзевяноста: 0.8958460092544556</td>\n      <td>дзесяць-дванаццаць: 0.6032377481460571</td>\n    </tr>\n    <tr>\n      <th>16</th>\n      <td>сямнаццаць: 0.8988263607025146</td>\n      <td>восемсот: 0.8601759076118469</td>\n      <td>дваццаць: 0.895477831363678</td>\n      <td>пятнаццаць-дваццаць: 0.6019014716148376</td>\n    </tr>\n    <tr>\n      <th>17</th>\n      <td>восемсот: 0.8969276547431946</td>\n      <td>пятнаццаты: 0.8553496599197388</td>\n      <td>шэсцьдзесят: 0.8945768475532532</td>\n      <td>адзiнаццаць: 0.5948761105537415</td>\n    </tr>\n    <tr>\n      <th>18</th>\n      <td>шэсцьдзесят: 0.8967174887657166</td>\n      <td>чатырыста: 0.8549561500549316</td>\n      <td>1943: 0.8921195864677429</td>\n      <td>адзінаццаці: 0.5909479260444641</td>\n    </tr>\n    <tr>\n      <th>19</th>\n      <td>шаснаццаты: 0.8965821862220764</td>\n      <td>налічыць: 0.8540505170822144</td>\n      <td>1942: 0.8916013240814209</td>\n      <td>Дваццацьшаснаццаць: 0.5881300568580627</td>\n    </tr>\n  </tbody>\n</table>\n</div>"
     },
     "execution_count": 18,
     "metadata": {},
     "output_type": "execute_result"
    }
   ],
   "source": [
    "apply_func(\n",
    "    lambda x, _: x.most_similar([\"адзінаццаць\"], topn=20)\n",
    ")"
   ],
   "metadata": {
    "collapsed": false,
    "ExecuteTime": {
     "end_time": "2024-05-01T12:34:41.809349300Z",
     "start_time": "2024-05-01T12:34:41.443706200Z"
    }
   },
   "id": "2a5d03f4800b89a9"
  },
  {
   "cell_type": "code",
   "execution_count": 19,
   "outputs": [
    {
     "data": {
      "text/plain": "                       skipgram w5                   skipgram w10  \\\n0          яна: 0.9091382622718811        яна: 0.8612225651741028   \n1    Наўмыснік: 0.8739092946052551          і: 0.8575137853622437   \n2       Паліна: 0.8664207458496094        што: 0.8252401351928711   \n3     тварыцкі: 0.8617824912071228         не: 0.8073900938034058   \n4   Чарпакевіч: 0.8601926565170288    Бурачок: 0.8063921928405762   \n5      Балоціч: 0.8591228723526001      Алесь: 0.8053411245346069   \n6      мар’янін: 0.857450008392334    Балоціч: 0.8001131415367126   \n7       Вольза: 0.8556194305419922      звычны: 0.798690676689148   \n8      Камбрыг: 0.8552753925323486   пачутаць: 0.7986211180686951   \n9        Чумак: 0.8541934490203857  прагнагчы: 0.7963274121284485   \n10       Вольф: 0.8516956567764282      Адась: 0.7948582172393799   \n11      Берман: 0.8510580658912659    Камбрыг: 0.7946988940238953   \n12  наважвацца: 0.8510252237319946    Надзькі: 0.7924305200576782   \n13     Колышаў: 0.8509892225265503      Ларыс: 0.7921339273452759   \n14     Пяціног: 0.8508380651473999     Козела: 0.7920783162117004   \n15    Карпенка: 0.8502012491226196       болын: 0.790357768535614   \n16        Роўд: 0.8501715660095215     Лапуст: 0.7888094186782837   \n17     Паніхід: 0.8499024510383606   Міхаліна: 0.7879292964935303   \n18         Зоня: 0.849514365196228   Сушчэвіч: 0.7876628041267395   \n19    Хакімава: 0.8491359353065491       мысля: 0.786842405796051   \n\n                          cbow w5                  pretrained  \n0         яна: 0.8698540329933167      Ён: 0.7677587270736694  \n1      Мацвей: 0.7059121131896973      не: 0.5042052865028381  \n2         яны: 0.7013801336288452       ,: 0.4746936559677124  \n3   Лабановіч: 0.6072115302085876      Ен: 0.4343029856681824  \n4       Алесь: 0.5904755592346191     ен: 0.40082284808158875  \n5       Ганна: 0.5796592831611633  Віарт: 0.39620304107666016  \n6           я: 0.5764326453208923   КалЁ: 0.39555639028549194  \n7    Башлыкоў: 0.5748684406280518      жа: 0.3915726840496063  \n8      Славік: 0.5716134309768677      бы: 0.3907463550567627  \n9       Чубар: 0.5691579580307007  ссівеў: 0.3873329758644104  \n10     Зоська: 0.5686679482460022       а: 0.3838389813899994  \n11     Васіль: 0.5677334070205688   Эйбу: 0.38318756222724915  \n12    Аляксей: 0.5589150786399841      ж: 0.38237428665161133  \n13     апейка: 0.5578227639198303     якЁ: 0.3817442059516907  \n14    Лецечка: 0.5571178793907166     цЁ: 0.38071978092193604  \n15  небяспека: 0.5537840127944946      .Ён: 0.380365252494812  \n16      нават: 0.5534271597862244    ёнў: 0.37713855504989624  \n17    хтосьці: 0.5469852089881897  Шагiна: 0.3731978237628937  \n18        яго: 0.5463284850120544   Ояма: 0.37234607338905334  \n19      Яўхім: 0.5433360934257507   Сэнь: 0.37225615978240967  ",
      "text/html": "<div>\n<style scoped>\n    .dataframe tbody tr th:only-of-type {\n        vertical-align: middle;\n    }\n\n    .dataframe tbody tr th {\n        vertical-align: top;\n    }\n\n    .dataframe thead th {\n        text-align: right;\n    }\n</style>\n<table border=\"1\" class=\"dataframe\">\n  <thead>\n    <tr style=\"text-align: right;\">\n      <th></th>\n      <th>skipgram w5</th>\n      <th>skipgram w10</th>\n      <th>cbow w5</th>\n      <th>pretrained</th>\n    </tr>\n  </thead>\n  <tbody>\n    <tr>\n      <th>0</th>\n      <td>яна: 0.9091382622718811</td>\n      <td>яна: 0.8612225651741028</td>\n      <td>яна: 0.8698540329933167</td>\n      <td>Ён: 0.7677587270736694</td>\n    </tr>\n    <tr>\n      <th>1</th>\n      <td>Наўмыснік: 0.8739092946052551</td>\n      <td>і: 0.8575137853622437</td>\n      <td>Мацвей: 0.7059121131896973</td>\n      <td>не: 0.5042052865028381</td>\n    </tr>\n    <tr>\n      <th>2</th>\n      <td>Паліна: 0.8664207458496094</td>\n      <td>што: 0.8252401351928711</td>\n      <td>яны: 0.7013801336288452</td>\n      <td>,: 0.4746936559677124</td>\n    </tr>\n    <tr>\n      <th>3</th>\n      <td>тварыцкі: 0.8617824912071228</td>\n      <td>не: 0.8073900938034058</td>\n      <td>Лабановіч: 0.6072115302085876</td>\n      <td>Ен: 0.4343029856681824</td>\n    </tr>\n    <tr>\n      <th>4</th>\n      <td>Чарпакевіч: 0.8601926565170288</td>\n      <td>Бурачок: 0.8063921928405762</td>\n      <td>Алесь: 0.5904755592346191</td>\n      <td>ен: 0.40082284808158875</td>\n    </tr>\n    <tr>\n      <th>5</th>\n      <td>Балоціч: 0.8591228723526001</td>\n      <td>Алесь: 0.8053411245346069</td>\n      <td>Ганна: 0.5796592831611633</td>\n      <td>Віарт: 0.39620304107666016</td>\n    </tr>\n    <tr>\n      <th>6</th>\n      <td>мар’янін: 0.857450008392334</td>\n      <td>Балоціч: 0.8001131415367126</td>\n      <td>я: 0.5764326453208923</td>\n      <td>КалЁ: 0.39555639028549194</td>\n    </tr>\n    <tr>\n      <th>7</th>\n      <td>Вольза: 0.8556194305419922</td>\n      <td>звычны: 0.798690676689148</td>\n      <td>Башлыкоў: 0.5748684406280518</td>\n      <td>жа: 0.3915726840496063</td>\n    </tr>\n    <tr>\n      <th>8</th>\n      <td>Камбрыг: 0.8552753925323486</td>\n      <td>пачутаць: 0.7986211180686951</td>\n      <td>Славік: 0.5716134309768677</td>\n      <td>бы: 0.3907463550567627</td>\n    </tr>\n    <tr>\n      <th>9</th>\n      <td>Чумак: 0.8541934490203857</td>\n      <td>прагнагчы: 0.7963274121284485</td>\n      <td>Чубар: 0.5691579580307007</td>\n      <td>ссівеў: 0.3873329758644104</td>\n    </tr>\n    <tr>\n      <th>10</th>\n      <td>Вольф: 0.8516956567764282</td>\n      <td>Адась: 0.7948582172393799</td>\n      <td>Зоська: 0.5686679482460022</td>\n      <td>а: 0.3838389813899994</td>\n    </tr>\n    <tr>\n      <th>11</th>\n      <td>Берман: 0.8510580658912659</td>\n      <td>Камбрыг: 0.7946988940238953</td>\n      <td>Васіль: 0.5677334070205688</td>\n      <td>Эйбу: 0.38318756222724915</td>\n    </tr>\n    <tr>\n      <th>12</th>\n      <td>наважвацца: 0.8510252237319946</td>\n      <td>Надзькі: 0.7924305200576782</td>\n      <td>Аляксей: 0.5589150786399841</td>\n      <td>ж: 0.38237428665161133</td>\n    </tr>\n    <tr>\n      <th>13</th>\n      <td>Колышаў: 0.8509892225265503</td>\n      <td>Ларыс: 0.7921339273452759</td>\n      <td>апейка: 0.5578227639198303</td>\n      <td>якЁ: 0.3817442059516907</td>\n    </tr>\n    <tr>\n      <th>14</th>\n      <td>Пяціног: 0.8508380651473999</td>\n      <td>Козела: 0.7920783162117004</td>\n      <td>Лецечка: 0.5571178793907166</td>\n      <td>цЁ: 0.38071978092193604</td>\n    </tr>\n    <tr>\n      <th>15</th>\n      <td>Карпенка: 0.8502012491226196</td>\n      <td>болын: 0.790357768535614</td>\n      <td>небяспека: 0.5537840127944946</td>\n      <td>.Ён: 0.380365252494812</td>\n    </tr>\n    <tr>\n      <th>16</th>\n      <td>Роўд: 0.8501715660095215</td>\n      <td>Лапуст: 0.7888094186782837</td>\n      <td>нават: 0.5534271597862244</td>\n      <td>ёнў: 0.37713855504989624</td>\n    </tr>\n    <tr>\n      <th>17</th>\n      <td>Паніхід: 0.8499024510383606</td>\n      <td>Міхаліна: 0.7879292964935303</td>\n      <td>хтосьці: 0.5469852089881897</td>\n      <td>Шагiна: 0.3731978237628937</td>\n    </tr>\n    <tr>\n      <th>18</th>\n      <td>Зоня: 0.849514365196228</td>\n      <td>Сушчэвіч: 0.7876628041267395</td>\n      <td>яго: 0.5463284850120544</td>\n      <td>Ояма: 0.37234607338905334</td>\n    </tr>\n    <tr>\n      <th>19</th>\n      <td>Хакімава: 0.8491359353065491</td>\n      <td>мысля: 0.786842405796051</td>\n      <td>Яўхім: 0.5433360934257507</td>\n      <td>Сэнь: 0.37225615978240967</td>\n    </tr>\n  </tbody>\n</table>\n</div>"
     },
     "execution_count": 19,
     "metadata": {},
     "output_type": "execute_result"
    }
   ],
   "source": [
    "apply_func(\n",
    "    lambda x, _: x.most_similar([\"ён\"], topn=20)\n",
    ")"
   ],
   "metadata": {
    "collapsed": false,
    "ExecuteTime": {
     "end_time": "2024-05-01T12:34:42.078050800Z",
     "start_time": "2024-05-01T12:34:41.765556300Z"
    }
   },
   "id": "d9a85cb0c0bdc8e6"
  },
  {
   "cell_type": "code",
   "execution_count": 20,
   "outputs": [
    {
     "data": {
      "text/plain": "                       skipgram w5                    skipgram w10  \\\n0    неўзабаве: 0.7111973762512207   неўзабаве: 0.7135466933250427   \n1       шпарка: 0.7094509601593018   прагнагчы: 0.7004532217979431   \n2    найхутчэй: 0.7062945365905762   найхутчэй: 0.6879240274429321   \n3       борзда: 0.7050652503967285       удала: 0.6867664456367493   \n4     імгненна: 0.7049323916435242     няхутка: 0.6818335652351379   \n5      шпарчэй: 0.6883629560470581  своечасова: 0.6803925037384033   \n6     спакваля: 0.6842737197875977     карцець: 0.6802246570587158   \n7        удала: 0.6838054656982422    цярпецца: 0.6761101484298706   \n8      няхутка: 0.6835536956787109      шпарка: 0.6739299297332764   \n9       дахаты: 0.6819209456443787   ненадоўга: 0.6734201908111572   \n10  як-небудзь: 0.6781203150749207     шпарчэй: 0.6707404851913452   \n11    спакваль: 0.6742967367172241    імгненна: 0.6691562533378601   \n12     карцець: 0.6651330590248108    спакваля: 0.6670172214508057   \n13  паспешліва: 0.6649441719055176    спакваль: 0.6647197604179382   \n14     марудна: 0.6633331179618835  непрыкметна: 0.663227915763855   \n15  незаўважна: 0.6624774932861328   замяшанне: 0.6616361141204834   \n16  наладзіцца: 0.6622311472892761  непрыметна: 0.6583334803581238   \n17   ненадоўга: 0.6599499583244324      адпаць: 0.6573468446731567   \n18       скора: 0.6589148640632629    Ананьева: 0.6572403907775879   \n19    Сноўдала: 0.6583888530731201    радуяцца: 0.6564648151397705   \n\n                            cbow w5                         pretrained  \n0     неўзабаве: 0.6196990609169006    хутка-хутка: 0.7617853879928589  \n1       марудна: 0.5777590274810791        няхутка: 0.6932395696640015  \n2          неяк: 0.5581346154212952        Няхутка: 0.6723303198814392  \n3       нечакана: 0.541629433631897        ціхутка: 0.6073318719863892  \n4    непрыкметна: 0.539616048336029    добрахвотна: 0.5923420190811157  \n5       наперад: 0.5394963622093201         вельмі: 0.5869695544242859  \n6         далей: 0.5334013104438782         паволі: 0.5852990746498108  \n7        памалу: 0.5309447050094604       Павольна: 0.5753752589225769  \n8        шпарка: 0.5306515097618103         хутказ: 0.5725973844528198  \n9       нарэшце: 0.5300918817520142      паступова: 0.5664605498313904  \n10    паступова: 0.5295408368110657        развіднела: 0.5595743060112  \n11        лягко: 0.5289535522460938     хутканогую: 0.5579673647880554  \n12      шпарчэй: 0.5197909474372864     хутканогай: 0.5574846863746643  \n13      карцець: 0.5195426344871521       павольна: 0.5559342503547668  \n14       урэшце: 0.5161012411117554         шпарка: 0.5547708868980408  \n15    спакайней: 0.5103750228881836          лутка: 0.5540188550949097  \n16  натуральней: 0.5076999664306641         даволі: 0.5534583330154419  \n17       Млынішч: 0.505440890789032           зноў: 0.5507969856262207  \n18      старацца: 0.504429817199707          лёгка: 0.5497503876686096  \n19  прызямленне: 0.5000978112220764  малаэфектыўна: 0.5447123646736145  ",
      "text/html": "<div>\n<style scoped>\n    .dataframe tbody tr th:only-of-type {\n        vertical-align: middle;\n    }\n\n    .dataframe tbody tr th {\n        vertical-align: top;\n    }\n\n    .dataframe thead th {\n        text-align: right;\n    }\n</style>\n<table border=\"1\" class=\"dataframe\">\n  <thead>\n    <tr style=\"text-align: right;\">\n      <th></th>\n      <th>skipgram w5</th>\n      <th>skipgram w10</th>\n      <th>cbow w5</th>\n      <th>pretrained</th>\n    </tr>\n  </thead>\n  <tbody>\n    <tr>\n      <th>0</th>\n      <td>неўзабаве: 0.7111973762512207</td>\n      <td>неўзабаве: 0.7135466933250427</td>\n      <td>неўзабаве: 0.6196990609169006</td>\n      <td>хутка-хутка: 0.7617853879928589</td>\n    </tr>\n    <tr>\n      <th>1</th>\n      <td>шпарка: 0.7094509601593018</td>\n      <td>прагнагчы: 0.7004532217979431</td>\n      <td>марудна: 0.5777590274810791</td>\n      <td>няхутка: 0.6932395696640015</td>\n    </tr>\n    <tr>\n      <th>2</th>\n      <td>найхутчэй: 0.7062945365905762</td>\n      <td>найхутчэй: 0.6879240274429321</td>\n      <td>неяк: 0.5581346154212952</td>\n      <td>Няхутка: 0.6723303198814392</td>\n    </tr>\n    <tr>\n      <th>3</th>\n      <td>борзда: 0.7050652503967285</td>\n      <td>удала: 0.6867664456367493</td>\n      <td>нечакана: 0.541629433631897</td>\n      <td>ціхутка: 0.6073318719863892</td>\n    </tr>\n    <tr>\n      <th>4</th>\n      <td>імгненна: 0.7049323916435242</td>\n      <td>няхутка: 0.6818335652351379</td>\n      <td>непрыкметна: 0.539616048336029</td>\n      <td>добрахвотна: 0.5923420190811157</td>\n    </tr>\n    <tr>\n      <th>5</th>\n      <td>шпарчэй: 0.6883629560470581</td>\n      <td>своечасова: 0.6803925037384033</td>\n      <td>наперад: 0.5394963622093201</td>\n      <td>вельмі: 0.5869695544242859</td>\n    </tr>\n    <tr>\n      <th>6</th>\n      <td>спакваля: 0.6842737197875977</td>\n      <td>карцець: 0.6802246570587158</td>\n      <td>далей: 0.5334013104438782</td>\n      <td>паволі: 0.5852990746498108</td>\n    </tr>\n    <tr>\n      <th>7</th>\n      <td>удала: 0.6838054656982422</td>\n      <td>цярпецца: 0.6761101484298706</td>\n      <td>памалу: 0.5309447050094604</td>\n      <td>Павольна: 0.5753752589225769</td>\n    </tr>\n    <tr>\n      <th>8</th>\n      <td>няхутка: 0.6835536956787109</td>\n      <td>шпарка: 0.6739299297332764</td>\n      <td>шпарка: 0.5306515097618103</td>\n      <td>хутказ: 0.5725973844528198</td>\n    </tr>\n    <tr>\n      <th>9</th>\n      <td>дахаты: 0.6819209456443787</td>\n      <td>ненадоўга: 0.6734201908111572</td>\n      <td>нарэшце: 0.5300918817520142</td>\n      <td>паступова: 0.5664605498313904</td>\n    </tr>\n    <tr>\n      <th>10</th>\n      <td>як-небудзь: 0.6781203150749207</td>\n      <td>шпарчэй: 0.6707404851913452</td>\n      <td>паступова: 0.5295408368110657</td>\n      <td>развіднела: 0.5595743060112</td>\n    </tr>\n    <tr>\n      <th>11</th>\n      <td>спакваль: 0.6742967367172241</td>\n      <td>імгненна: 0.6691562533378601</td>\n      <td>лягко: 0.5289535522460938</td>\n      <td>хутканогую: 0.5579673647880554</td>\n    </tr>\n    <tr>\n      <th>12</th>\n      <td>карцець: 0.6651330590248108</td>\n      <td>спакваля: 0.6670172214508057</td>\n      <td>шпарчэй: 0.5197909474372864</td>\n      <td>хутканогай: 0.5574846863746643</td>\n    </tr>\n    <tr>\n      <th>13</th>\n      <td>паспешліва: 0.6649441719055176</td>\n      <td>спакваль: 0.6647197604179382</td>\n      <td>карцець: 0.5195426344871521</td>\n      <td>павольна: 0.5559342503547668</td>\n    </tr>\n    <tr>\n      <th>14</th>\n      <td>марудна: 0.6633331179618835</td>\n      <td>непрыкметна: 0.663227915763855</td>\n      <td>урэшце: 0.5161012411117554</td>\n      <td>шпарка: 0.5547708868980408</td>\n    </tr>\n    <tr>\n      <th>15</th>\n      <td>незаўважна: 0.6624774932861328</td>\n      <td>замяшанне: 0.6616361141204834</td>\n      <td>спакайней: 0.5103750228881836</td>\n      <td>лутка: 0.5540188550949097</td>\n    </tr>\n    <tr>\n      <th>16</th>\n      <td>наладзіцца: 0.6622311472892761</td>\n      <td>непрыметна: 0.6583334803581238</td>\n      <td>натуральней: 0.5076999664306641</td>\n      <td>даволі: 0.5534583330154419</td>\n    </tr>\n    <tr>\n      <th>17</th>\n      <td>ненадоўга: 0.6599499583244324</td>\n      <td>адпаць: 0.6573468446731567</td>\n      <td>Млынішч: 0.505440890789032</td>\n      <td>зноў: 0.5507969856262207</td>\n    </tr>\n    <tr>\n      <th>18</th>\n      <td>скора: 0.6589148640632629</td>\n      <td>Ананьева: 0.6572403907775879</td>\n      <td>старацца: 0.504429817199707</td>\n      <td>лёгка: 0.5497503876686096</td>\n    </tr>\n    <tr>\n      <th>19</th>\n      <td>Сноўдала: 0.6583888530731201</td>\n      <td>радуяцца: 0.6564648151397705</td>\n      <td>прызямленне: 0.5000978112220764</td>\n      <td>малаэфектыўна: 0.5447123646736145</td>\n    </tr>\n  </tbody>\n</table>\n</div>"
     },
     "execution_count": 20,
     "metadata": {},
     "output_type": "execute_result"
    }
   ],
   "source": [
    "apply_func(\n",
    "    lambda x, _: x.most_similar([\"хутка\"], topn=20)\n",
    ")"
   ],
   "metadata": {
    "collapsed": false,
    "ExecuteTime": {
     "end_time": "2024-05-01T12:34:42.407836400Z",
     "start_time": "2024-05-01T12:34:42.080475300Z"
    }
   },
   "id": "816fcb71a597a570"
  },
  {
   "cell_type": "markdown",
   "source": [
    "#### Arithmetic operations with multiple vectors"
   ],
   "metadata": {
    "collapsed": false
   },
   "id": "b3386265c8943ab6"
  },
  {
   "cell_type": "code",
   "execution_count": 21,
   "outputs": [
    {
     "data": {
      "text/plain": "                      skipgram w5                    skipgram w10  \\\n0        маці: 0.8194512724876404        маці: 0.8091663718223572   \n1         сын: 0.7707741856575012        жонка: 0.765314519405365   \n2          муж: 0.760155975818634         сын: 0.7572315335273743   \n3    нявестка: 0.7424349188804626        Саша: 0.7569324970245361   \n4       дачка: 0.7418791651725769    нявестка: 0.7457756400108337   \n5      брацік: 0.7253528237342834       маткі: 0.7432278990745544   \n6    сяброўка: 0.7231695652008057      сірата: 0.7395504713058472   \n7       жонка: 0.7196933627128601       дачка: 0.7344971299171448   \n8      унучка: 0.7158250212669373  ахмістрыня: 0.7326514720916748   \n9       Алена: 0.7086225748062134      унучка: 0.7316990494728088   \n10    Наталля: 0.7058881521224976  пляменніца: 0.7304710745811462   \n11     сірата: 0.7017631530761719      брацік: 0.7288896441459656   \n12  пляменнік: 0.6990240216255188      матчын: 0.7224737405776978   \n13     матуля: 0.6980724930763245   дваюрадны: 0.7217275500297546   \n14    Бярозка: 0.6974052786827087     дачушка: 0.7216466069221497   \n15       унук: 0.6969926357269287     Наталля: 0.7212667465209961   \n16  нябожчыца: 0.6958773732185364         муж: 0.7199164032936096   \n17    Наташка: 0.6954582929611206    Лісавета: 0.7180722951889038   \n18     маміна: 0.6951454877853394     Бярозка: 0.7168595790863037   \n19      маткі: 0.6950228810310364      Надзея: 0.7152634859085083   \n\n                         cbow w5                          pretrained  \n0       маці: 0.8502755761146545            маці: 0.6002719402313232  \n1      жонка: 0.8084573745727539     бацька-маці: 0.5851595401763916  \n2         сын: 0.805460512638092         -бацька: 0.5826510787010193  \n3      дачка: 0.7420547604560852         бацька.-: 0.580398440361023  \n4        муж: 0.7357462644577026  бацька-эстонец: 0.5780854821205139  \n5      матка: 0.6798509955406189   ваенны-бацька: 0.5651611685752869  \n6     сястра: 0.6788142323493958        бацька-2: 0.5649682283401489  \n7      дзіця: 0.6783962249755859      Бог-бацька: 0.5583592653274536  \n8       дзед: 0.6736637353897095      бог-бацька: 0.5582204461097717  \n9       Ніна: 0.6228703260421753        бацькава: 0.5555803179740906  \n10      брат: 0.6131972670555115   кароль-бацька: 0.5407546758651733  \n11     Ганна: 0.6071398258209229       прабацька: 0.5396440029144287  \n12   гаспадыня: 0.60259610414505          Мацька: 0.5386506915092468  \n13      Саша: 0.6020543575286865       Прабацька: 0.5383750796318054  \n14      мама: 0.6013896465301514         .Бацька: 0.5379026532173157  \n15     сябар: 0.5956676006317139  бацька-інжынер: 0.5376412868499756  \n16      малы: 0.5939821004867554           дачка: 0.5253171324729919  \n17      унук: 0.5916463136672974        Вунацька: 0.5215977430343628  \n18   княгіня: 0.5889790058135986          Бацька: 0.5205187797546387  \n19  сяброўка: 0.5858208537101746     лорд-бацька: 0.5199270248413086  ",
      "text/html": "<div>\n<style scoped>\n    .dataframe tbody tr th:only-of-type {\n        vertical-align: middle;\n    }\n\n    .dataframe tbody tr th {\n        vertical-align: top;\n    }\n\n    .dataframe thead th {\n        text-align: right;\n    }\n</style>\n<table border=\"1\" class=\"dataframe\">\n  <thead>\n    <tr style=\"text-align: right;\">\n      <th></th>\n      <th>skipgram w5</th>\n      <th>skipgram w10</th>\n      <th>cbow w5</th>\n      <th>pretrained</th>\n    </tr>\n  </thead>\n  <tbody>\n    <tr>\n      <th>0</th>\n      <td>маці: 0.8194512724876404</td>\n      <td>маці: 0.8091663718223572</td>\n      <td>маці: 0.8502755761146545</td>\n      <td>маці: 0.6002719402313232</td>\n    </tr>\n    <tr>\n      <th>1</th>\n      <td>сын: 0.7707741856575012</td>\n      <td>жонка: 0.765314519405365</td>\n      <td>жонка: 0.8084573745727539</td>\n      <td>бацька-маці: 0.5851595401763916</td>\n    </tr>\n    <tr>\n      <th>2</th>\n      <td>муж: 0.760155975818634</td>\n      <td>сын: 0.7572315335273743</td>\n      <td>сын: 0.805460512638092</td>\n      <td>-бацька: 0.5826510787010193</td>\n    </tr>\n    <tr>\n      <th>3</th>\n      <td>нявестка: 0.7424349188804626</td>\n      <td>Саша: 0.7569324970245361</td>\n      <td>дачка: 0.7420547604560852</td>\n      <td>бацька.-: 0.580398440361023</td>\n    </tr>\n    <tr>\n      <th>4</th>\n      <td>дачка: 0.7418791651725769</td>\n      <td>нявестка: 0.7457756400108337</td>\n      <td>муж: 0.7357462644577026</td>\n      <td>бацька-эстонец: 0.5780854821205139</td>\n    </tr>\n    <tr>\n      <th>5</th>\n      <td>брацік: 0.7253528237342834</td>\n      <td>маткі: 0.7432278990745544</td>\n      <td>матка: 0.6798509955406189</td>\n      <td>ваенны-бацька: 0.5651611685752869</td>\n    </tr>\n    <tr>\n      <th>6</th>\n      <td>сяброўка: 0.7231695652008057</td>\n      <td>сірата: 0.7395504713058472</td>\n      <td>сястра: 0.6788142323493958</td>\n      <td>бацька-2: 0.5649682283401489</td>\n    </tr>\n    <tr>\n      <th>7</th>\n      <td>жонка: 0.7196933627128601</td>\n      <td>дачка: 0.7344971299171448</td>\n      <td>дзіця: 0.6783962249755859</td>\n      <td>Бог-бацька: 0.5583592653274536</td>\n    </tr>\n    <tr>\n      <th>8</th>\n      <td>унучка: 0.7158250212669373</td>\n      <td>ахмістрыня: 0.7326514720916748</td>\n      <td>дзед: 0.6736637353897095</td>\n      <td>бог-бацька: 0.5582204461097717</td>\n    </tr>\n    <tr>\n      <th>9</th>\n      <td>Алена: 0.7086225748062134</td>\n      <td>унучка: 0.7316990494728088</td>\n      <td>Ніна: 0.6228703260421753</td>\n      <td>бацькава: 0.5555803179740906</td>\n    </tr>\n    <tr>\n      <th>10</th>\n      <td>Наталля: 0.7058881521224976</td>\n      <td>пляменніца: 0.7304710745811462</td>\n      <td>брат: 0.6131972670555115</td>\n      <td>кароль-бацька: 0.5407546758651733</td>\n    </tr>\n    <tr>\n      <th>11</th>\n      <td>сірата: 0.7017631530761719</td>\n      <td>брацік: 0.7288896441459656</td>\n      <td>Ганна: 0.6071398258209229</td>\n      <td>прабацька: 0.5396440029144287</td>\n    </tr>\n    <tr>\n      <th>12</th>\n      <td>пляменнік: 0.6990240216255188</td>\n      <td>матчын: 0.7224737405776978</td>\n      <td>гаспадыня: 0.60259610414505</td>\n      <td>Мацька: 0.5386506915092468</td>\n    </tr>\n    <tr>\n      <th>13</th>\n      <td>матуля: 0.6980724930763245</td>\n      <td>дваюрадны: 0.7217275500297546</td>\n      <td>Саша: 0.6020543575286865</td>\n      <td>Прабацька: 0.5383750796318054</td>\n    </tr>\n    <tr>\n      <th>14</th>\n      <td>Бярозка: 0.6974052786827087</td>\n      <td>дачушка: 0.7216466069221497</td>\n      <td>мама: 0.6013896465301514</td>\n      <td>.Бацька: 0.5379026532173157</td>\n    </tr>\n    <tr>\n      <th>15</th>\n      <td>унук: 0.6969926357269287</td>\n      <td>Наталля: 0.7212667465209961</td>\n      <td>сябар: 0.5956676006317139</td>\n      <td>бацька-інжынер: 0.5376412868499756</td>\n    </tr>\n    <tr>\n      <th>16</th>\n      <td>нябожчыца: 0.6958773732185364</td>\n      <td>муж: 0.7199164032936096</td>\n      <td>малы: 0.5939821004867554</td>\n      <td>дачка: 0.5253171324729919</td>\n    </tr>\n    <tr>\n      <th>17</th>\n      <td>Наташка: 0.6954582929611206</td>\n      <td>Лісавета: 0.7180722951889038</td>\n      <td>унук: 0.5916463136672974</td>\n      <td>Вунацька: 0.5215977430343628</td>\n    </tr>\n    <tr>\n      <th>18</th>\n      <td>маміна: 0.6951454877853394</td>\n      <td>Бярозка: 0.7168595790863037</td>\n      <td>княгіня: 0.5889790058135986</td>\n      <td>Бацька: 0.5205187797546387</td>\n    </tr>\n    <tr>\n      <th>19</th>\n      <td>маткі: 0.6950228810310364</td>\n      <td>Надзея: 0.7152634859085083</td>\n      <td>сяброўка: 0.5858208537101746</td>\n      <td>лорд-бацька: 0.5199270248413086</td>\n    </tr>\n  </tbody>\n</table>\n</div>"
     },
     "execution_count": 21,
     "metadata": {},
     "output_type": "execute_result"
    }
   ],
   "source": [
    "apply_func(\n",
    "    lambda x, _: x.most_similar(positive=['жанчына', 'бацька'], negative=['мужчына'], topn=20)\n",
    ")"
   ],
   "metadata": {
    "collapsed": false,
    "ExecuteTime": {
     "end_time": "2024-05-01T12:34:42.703260100Z",
     "start_time": "2024-05-01T12:34:42.407836400Z"
    }
   },
   "id": "51738181cc2d4f59"
  },
  {
   "cell_type": "code",
   "execution_count": 22,
   "outputs": [
    {
     "data": {
      "text/plain": "                       skipgram w5                   skipgram w10  \\\n0     дзяўчына: 0.8390379548072815   дзяўчына: 0.7680259943008423   \n1        кабет: 0.7205139398574829  Валянціна: 0.7267442941665649   \n2      хлопчык: 0.7160747647285461       Саша: 0.7246918678283691   \n3    Хрысцінюк: 0.7113121151924133        Аня: 0.7138403058052063   \n4     салдатка: 0.7070057392120361        яна: 0.7106106877326965   \n5       Сандро: 0.7067594528198242       Лена: 0.7055127024650574   \n6          яна: 0.7043850421905518    суседак: 0.7012845277786255   \n7      Вікберт: 0.7019421458244324  дураслівы: 0.6987898349761963   \n8         Ліда: 0.6998673677444458    удзячна: 0.6928006410598755   \n9    дзяўчынка: 0.6977933645248413   Буткевіч: 0.6919383406639099   \n10       Якава: 0.6972963213920593       Машш: 0.6918125152587891   \n11        Маша: 0.6963183283805847        Ілля: 0.689153790473938   \n12       Надзя: 0.6955636143684387       юнак: 0.6880472302436829   \n13         Іра: 0.6946417689323425    Балоціч: 0.6870863437652588   \n14     хлапчук: 0.6939301490783691  Раманаўна: 0.6855656504631042   \n15  дырэктарых: 0.6919088363647461   Адамаўна: 0.6849545240402222   \n16        Валя: 0.6917248368263245      Ларыс: 0.6845188140869141   \n17   Валянціна: 0.6912256479263306        Іра: 0.6825947165489197   \n18        юнак: 0.6911866068840027      Надзя: 0.6812014579772949   \n19       госця: 0.6911119818687439    Міхаліна: 0.680768609046936   \n\n                          cbow w5                           pretrained  \n0    дзяўчына: 0.8158063888549805         хлопец.-: 0.6098657846450806  \n1       сябар: 0.6204489469528198          хлопецъ: 0.5886616110801697  \n2     чалавек: 0.6101166605949402         дзяўчына: 0.5662907361984253  \n3     хлопчык: 0.5999425053596497            хлопе: 0.5164709687232971  \n4        баец: 0.5978458523750305           хлопае: 0.4926866590976715  \n5    Міленькі: 0.5949402451515198         .Хлопец: 0.48046717047691345  \n6   гаспадыня: 0.5868555307388306   Хлопец-хлапчук: 0.4693601131439209  \n7       кабет: 0.5854188799858093            хлоп: 0.46652278304100037  \n8       дзіця: 0.5845623016357422          хлопнуў: 0.4653664231300354  \n9   настаўнік: 0.5827525854110718           Хлопец: 0.4651722013950348  \n10  дзяўчынка: 0.5822930335998535           хлопу: 0.46297961473464966  \n11      госця: 0.5800718665122986          дзеўка: 0.45150113105773926  \n12    хлапчук: 0.5704478621482849          хлопаем: 0.4502187669277191  \n13       Яраш: 0.5667315125465393          Ланчына: 0.4497515559196472  \n14     Вольга: 0.5626469850540161  хлопца-падлетка: 0.4489908516407013  \n15      госць: 0.5580350160598755    звер-жанчына: 0.44543856382369995  \n16   падлетак: 0.5527843236923218        дзеўчына: 0.44442740082740784  \n17       Ніна: 0.5483525991439819          хлопске: 0.4434763491153717  \n18     кабета: 0.5474652647972107          дзеўкаю: 0.4423072338104248  \n19         лы: 0.5412688851356506       немаладая: 0.44228866696357727  ",
      "text/html": "<div>\n<style scoped>\n    .dataframe tbody tr th:only-of-type {\n        vertical-align: middle;\n    }\n\n    .dataframe tbody tr th {\n        vertical-align: top;\n    }\n\n    .dataframe thead th {\n        text-align: right;\n    }\n</style>\n<table border=\"1\" class=\"dataframe\">\n  <thead>\n    <tr style=\"text-align: right;\">\n      <th></th>\n      <th>skipgram w5</th>\n      <th>skipgram w10</th>\n      <th>cbow w5</th>\n      <th>pretrained</th>\n    </tr>\n  </thead>\n  <tbody>\n    <tr>\n      <th>0</th>\n      <td>дзяўчына: 0.8390379548072815</td>\n      <td>дзяўчына: 0.7680259943008423</td>\n      <td>дзяўчына: 0.8158063888549805</td>\n      <td>хлопец.-: 0.6098657846450806</td>\n    </tr>\n    <tr>\n      <th>1</th>\n      <td>кабет: 0.7205139398574829</td>\n      <td>Валянціна: 0.7267442941665649</td>\n      <td>сябар: 0.6204489469528198</td>\n      <td>хлопецъ: 0.5886616110801697</td>\n    </tr>\n    <tr>\n      <th>2</th>\n      <td>хлопчык: 0.7160747647285461</td>\n      <td>Саша: 0.7246918678283691</td>\n      <td>чалавек: 0.6101166605949402</td>\n      <td>дзяўчына: 0.5662907361984253</td>\n    </tr>\n    <tr>\n      <th>3</th>\n      <td>Хрысцінюк: 0.7113121151924133</td>\n      <td>Аня: 0.7138403058052063</td>\n      <td>хлопчык: 0.5999425053596497</td>\n      <td>хлопе: 0.5164709687232971</td>\n    </tr>\n    <tr>\n      <th>4</th>\n      <td>салдатка: 0.7070057392120361</td>\n      <td>яна: 0.7106106877326965</td>\n      <td>баец: 0.5978458523750305</td>\n      <td>хлопае: 0.4926866590976715</td>\n    </tr>\n    <tr>\n      <th>5</th>\n      <td>Сандро: 0.7067594528198242</td>\n      <td>Лена: 0.7055127024650574</td>\n      <td>Міленькі: 0.5949402451515198</td>\n      <td>.Хлопец: 0.48046717047691345</td>\n    </tr>\n    <tr>\n      <th>6</th>\n      <td>яна: 0.7043850421905518</td>\n      <td>суседак: 0.7012845277786255</td>\n      <td>гаспадыня: 0.5868555307388306</td>\n      <td>Хлопец-хлапчук: 0.4693601131439209</td>\n    </tr>\n    <tr>\n      <th>7</th>\n      <td>Вікберт: 0.7019421458244324</td>\n      <td>дураслівы: 0.6987898349761963</td>\n      <td>кабет: 0.5854188799858093</td>\n      <td>хлоп: 0.46652278304100037</td>\n    </tr>\n    <tr>\n      <th>8</th>\n      <td>Ліда: 0.6998673677444458</td>\n      <td>удзячна: 0.6928006410598755</td>\n      <td>дзіця: 0.5845623016357422</td>\n      <td>хлопнуў: 0.4653664231300354</td>\n    </tr>\n    <tr>\n      <th>9</th>\n      <td>дзяўчынка: 0.6977933645248413</td>\n      <td>Буткевіч: 0.6919383406639099</td>\n      <td>настаўнік: 0.5827525854110718</td>\n      <td>Хлопец: 0.4651722013950348</td>\n    </tr>\n    <tr>\n      <th>10</th>\n      <td>Якава: 0.6972963213920593</td>\n      <td>Машш: 0.6918125152587891</td>\n      <td>дзяўчынка: 0.5822930335998535</td>\n      <td>хлопу: 0.46297961473464966</td>\n    </tr>\n    <tr>\n      <th>11</th>\n      <td>Маша: 0.6963183283805847</td>\n      <td>Ілля: 0.689153790473938</td>\n      <td>госця: 0.5800718665122986</td>\n      <td>дзеўка: 0.45150113105773926</td>\n    </tr>\n    <tr>\n      <th>12</th>\n      <td>Надзя: 0.6955636143684387</td>\n      <td>юнак: 0.6880472302436829</td>\n      <td>хлапчук: 0.5704478621482849</td>\n      <td>хлопаем: 0.4502187669277191</td>\n    </tr>\n    <tr>\n      <th>13</th>\n      <td>Іра: 0.6946417689323425</td>\n      <td>Балоціч: 0.6870863437652588</td>\n      <td>Яраш: 0.5667315125465393</td>\n      <td>Ланчына: 0.4497515559196472</td>\n    </tr>\n    <tr>\n      <th>14</th>\n      <td>хлапчук: 0.6939301490783691</td>\n      <td>Раманаўна: 0.6855656504631042</td>\n      <td>Вольга: 0.5626469850540161</td>\n      <td>хлопца-падлетка: 0.4489908516407013</td>\n    </tr>\n    <tr>\n      <th>15</th>\n      <td>дырэктарых: 0.6919088363647461</td>\n      <td>Адамаўна: 0.6849545240402222</td>\n      <td>госць: 0.5580350160598755</td>\n      <td>звер-жанчына: 0.44543856382369995</td>\n    </tr>\n    <tr>\n      <th>16</th>\n      <td>Валя: 0.6917248368263245</td>\n      <td>Ларыс: 0.6845188140869141</td>\n      <td>падлетак: 0.5527843236923218</td>\n      <td>дзеўчына: 0.44442740082740784</td>\n    </tr>\n    <tr>\n      <th>17</th>\n      <td>Валянціна: 0.6912256479263306</td>\n      <td>Іра: 0.6825947165489197</td>\n      <td>Ніна: 0.5483525991439819</td>\n      <td>хлопске: 0.4434763491153717</td>\n    </tr>\n    <tr>\n      <th>18</th>\n      <td>юнак: 0.6911866068840027</td>\n      <td>Надзя: 0.6812014579772949</td>\n      <td>кабета: 0.5474652647972107</td>\n      <td>дзеўкаю: 0.4423072338104248</td>\n    </tr>\n    <tr>\n      <th>19</th>\n      <td>госця: 0.6911119818687439</td>\n      <td>Міхаліна: 0.680768609046936</td>\n      <td>лы: 0.5412688851356506</td>\n      <td>немаладая: 0.44228866696357727</td>\n    </tr>\n  </tbody>\n</table>\n</div>"
     },
     "execution_count": 22,
     "metadata": {},
     "output_type": "execute_result"
    }
   ],
   "source": [
    "apply_func(\n",
    "    lambda x, _: x.most_similar(positive=['жанчына', 'хлопец'], negative=['мужчына'], topn=20)\n",
    ")"
   ],
   "metadata": {
    "collapsed": false,
    "ExecuteTime": {
     "end_time": "2024-05-01T12:34:43.043324300Z",
     "start_time": "2024-05-01T12:34:42.705422400Z"
    }
   },
   "id": "562eda34b9b3004f"
  },
  {
   "cell_type": "code",
   "execution_count": 23,
   "outputs": [
    {
     "data": {
      "text/plain": "                         skipgram w5                       skipgram w10  \\\n0      нежаданне: 0.8022024035453796     далікатнасць: 0.80511873960495   \n1        інтымны: 0.8012632727622986   уздзейнічаць: 0.7882839441299438   \n2      здатнасць: 0.8001471757888794  бібліятэкарка: 0.7863178849220276   \n3     няўважлівы: 0.7981935739517212       павучальны: 0.78294837474823   \n4         слушны: 0.7981559038162231  падрыхтоўваць: 0.7820546627044678   \n5         талкова: 0.797240138053894          эфект: 0.7820437550544739   \n6         Дубейка: 0.796680748462677      іншаземец: 0.7817070484161377   \n7         Шульцэ: 0.7958831191062927        Дарошка: 0.7799788117408752   \n8   таварыскасць: 0.7957931756973267        відочна: 0.7790292501449585   \n9      палітрука: 0.7948907613754272        імяніна: 0.7788580060005188   \n10        прачуць: 0.794778048992157       Антаніна: 0.7788564562797546   \n11     італьянец: 0.7939608693122864       кватэрка: 0.7781901955604553   \n12    нерэгулярна: 0.793533205986023   камендантавы: 0.7770963311195374   \n13      карцёжны: 0.7927436232566833         давер’е: 0.775968611240387   \n14         уцеха: 0.7927393913269043   грамадскасць: 0.7753317952156067   \n15     штоколечы: 0.7926438450813293  далікатнічаць: 0.7753177285194397   \n16       гутарак: 0.7925267815589905         гаецкі: 0.7752782702445984   \n17   цнатлівасць: 0.7921212315559387      Бароўская: 0.7751931548118591   \n18        Гукана: 0.7921041250228882   задавольваць: 0.7749626040458679   \n19    ветлівасць: 0.7919471263885498   красамоўства: 0.7748474478721619   \n\n                               cbow w5                             pretrained  \n0           скарга: 0.8359129428863525          прадавачка: 0.562881588935852  \n1             латыш: 0.824915885925293        прадаўшчыца: 0.5403940677642822  \n2        пярэчанне: 0.8233468532562256           Прадавец: 0.5330600738525391  \n3          рэпліка: 0.8228441476821899            прадава: 0.5251862406730652  \n4          Грамыка: 0.8225812315940857          прадажная: 0.5108407735824585  \n5           покліч: 0.8215352296829224             прадаю: 0.4973801076412201  \n6            Мар'ян: 0.819329023361206          прадауца: 0.49516016244888306  \n7          Дамецік: 0.8170785903930664         прадавала: 0.48551368713378906  \n8      дамініканец: 0.8169015049934387            прадаж: 0.47671884298324585  \n9         Кудравец: 0.8146253228187561         прадавачак: 0.4718766510486603  \n10           мачыс: 0.8141623735427856        прадавачку: 0.46847233176231384  \n11           Келер: 0.8132169842720032           прадаяце: 0.4640585780143738  \n12           гумар: 0.8102124333381653      рэкламадавец: 0.46138107776641846  \n13       геройства: 0.8101892471313477      прадаўшчыцай: 0.45877546072006226  \n14     з’едлівасць: 0.8079525232315063            прадажу: 0.4583893418312073  \n15  халаднаватасць: 0.8079386949539185       прадаванная: 0.45800530910491943  \n16       Баўтрамей: 0.8079352378845215   прадпрымальніца: 0.45799943804740906  \n17        браталюб: 0.8075637817382812        прадавачкі: 0.45754894614219666  \n18        Паўлаўна: 0.8070152997970581  кампанія-выдавец: 0.45664265751838684  \n19        напускны: 0.8061925768852234          прадаўцу: 0.45653167366981506  ",
      "text/html": "<div>\n<style scoped>\n    .dataframe tbody tr th:only-of-type {\n        vertical-align: middle;\n    }\n\n    .dataframe tbody tr th {\n        vertical-align: top;\n    }\n\n    .dataframe thead th {\n        text-align: right;\n    }\n</style>\n<table border=\"1\" class=\"dataframe\">\n  <thead>\n    <tr style=\"text-align: right;\">\n      <th></th>\n      <th>skipgram w5</th>\n      <th>skipgram w10</th>\n      <th>cbow w5</th>\n      <th>pretrained</th>\n    </tr>\n  </thead>\n  <tbody>\n    <tr>\n      <th>0</th>\n      <td>нежаданне: 0.8022024035453796</td>\n      <td>далікатнасць: 0.80511873960495</td>\n      <td>скарга: 0.8359129428863525</td>\n      <td>прадавачка: 0.562881588935852</td>\n    </tr>\n    <tr>\n      <th>1</th>\n      <td>інтымны: 0.8012632727622986</td>\n      <td>уздзейнічаць: 0.7882839441299438</td>\n      <td>латыш: 0.824915885925293</td>\n      <td>прадаўшчыца: 0.5403940677642822</td>\n    </tr>\n    <tr>\n      <th>2</th>\n      <td>здатнасць: 0.8001471757888794</td>\n      <td>бібліятэкарка: 0.7863178849220276</td>\n      <td>пярэчанне: 0.8233468532562256</td>\n      <td>Прадавец: 0.5330600738525391</td>\n    </tr>\n    <tr>\n      <th>3</th>\n      <td>няўважлівы: 0.7981935739517212</td>\n      <td>павучальны: 0.78294837474823</td>\n      <td>рэпліка: 0.8228441476821899</td>\n      <td>прадава: 0.5251862406730652</td>\n    </tr>\n    <tr>\n      <th>4</th>\n      <td>слушны: 0.7981559038162231</td>\n      <td>падрыхтоўваць: 0.7820546627044678</td>\n      <td>Грамыка: 0.8225812315940857</td>\n      <td>прадажная: 0.5108407735824585</td>\n    </tr>\n    <tr>\n      <th>5</th>\n      <td>талкова: 0.797240138053894</td>\n      <td>эфект: 0.7820437550544739</td>\n      <td>покліч: 0.8215352296829224</td>\n      <td>прадаю: 0.4973801076412201</td>\n    </tr>\n    <tr>\n      <th>6</th>\n      <td>Дубейка: 0.796680748462677</td>\n      <td>іншаземец: 0.7817070484161377</td>\n      <td>Мар'ян: 0.819329023361206</td>\n      <td>прадауца: 0.49516016244888306</td>\n    </tr>\n    <tr>\n      <th>7</th>\n      <td>Шульцэ: 0.7958831191062927</td>\n      <td>Дарошка: 0.7799788117408752</td>\n      <td>Дамецік: 0.8170785903930664</td>\n      <td>прадавала: 0.48551368713378906</td>\n    </tr>\n    <tr>\n      <th>8</th>\n      <td>таварыскасць: 0.7957931756973267</td>\n      <td>відочна: 0.7790292501449585</td>\n      <td>дамініканец: 0.8169015049934387</td>\n      <td>прадаж: 0.47671884298324585</td>\n    </tr>\n    <tr>\n      <th>9</th>\n      <td>палітрука: 0.7948907613754272</td>\n      <td>імяніна: 0.7788580060005188</td>\n      <td>Кудравец: 0.8146253228187561</td>\n      <td>прадавачак: 0.4718766510486603</td>\n    </tr>\n    <tr>\n      <th>10</th>\n      <td>прачуць: 0.794778048992157</td>\n      <td>Антаніна: 0.7788564562797546</td>\n      <td>мачыс: 0.8141623735427856</td>\n      <td>прадавачку: 0.46847233176231384</td>\n    </tr>\n    <tr>\n      <th>11</th>\n      <td>італьянец: 0.7939608693122864</td>\n      <td>кватэрка: 0.7781901955604553</td>\n      <td>Келер: 0.8132169842720032</td>\n      <td>прадаяце: 0.4640585780143738</td>\n    </tr>\n    <tr>\n      <th>12</th>\n      <td>нерэгулярна: 0.793533205986023</td>\n      <td>камендантавы: 0.7770963311195374</td>\n      <td>гумар: 0.8102124333381653</td>\n      <td>рэкламадавец: 0.46138107776641846</td>\n    </tr>\n    <tr>\n      <th>13</th>\n      <td>карцёжны: 0.7927436232566833</td>\n      <td>давер’е: 0.775968611240387</td>\n      <td>геройства: 0.8101892471313477</td>\n      <td>прадаўшчыцай: 0.45877546072006226</td>\n    </tr>\n    <tr>\n      <th>14</th>\n      <td>уцеха: 0.7927393913269043</td>\n      <td>грамадскасць: 0.7753317952156067</td>\n      <td>з’едлівасць: 0.8079525232315063</td>\n      <td>прадажу: 0.4583893418312073</td>\n    </tr>\n    <tr>\n      <th>15</th>\n      <td>штоколечы: 0.7926438450813293</td>\n      <td>далікатнічаць: 0.7753177285194397</td>\n      <td>халаднаватасць: 0.8079386949539185</td>\n      <td>прадаванная: 0.45800530910491943</td>\n    </tr>\n    <tr>\n      <th>16</th>\n      <td>гутарак: 0.7925267815589905</td>\n      <td>гаецкі: 0.7752782702445984</td>\n      <td>Баўтрамей: 0.8079352378845215</td>\n      <td>прадпрымальніца: 0.45799943804740906</td>\n    </tr>\n    <tr>\n      <th>17</th>\n      <td>цнатлівасць: 0.7921212315559387</td>\n      <td>Бароўская: 0.7751931548118591</td>\n      <td>браталюб: 0.8075637817382812</td>\n      <td>прадавачкі: 0.45754894614219666</td>\n    </tr>\n    <tr>\n      <th>18</th>\n      <td>Гукана: 0.7921041250228882</td>\n      <td>задавольваць: 0.7749626040458679</td>\n      <td>Паўлаўна: 0.8070152997970581</td>\n      <td>кампанія-выдавец: 0.45664265751838684</td>\n    </tr>\n    <tr>\n      <th>19</th>\n      <td>ветлівасць: 0.7919471263885498</td>\n      <td>красамоўства: 0.7748474478721619</td>\n      <td>напускны: 0.8061925768852234</td>\n      <td>прадаўцу: 0.45653167366981506</td>\n    </tr>\n  </tbody>\n</table>\n</div>"
     },
     "execution_count": 23,
     "metadata": {},
     "output_type": "execute_result"
    }
   ],
   "source": [
    "apply_func(\n",
    "    lambda x, _: x.most_similar(positive=['жанчына', 'прадавец'], negative=['мужчына'], topn=20)\n",
    ")"
   ],
   "metadata": {
    "collapsed": false,
    "ExecuteTime": {
     "end_time": "2024-05-01T12:34:43.323688800Z",
     "start_time": "2024-05-01T12:34:43.037126300Z"
    }
   },
   "id": "8f45aeff07b08334"
  }
 ],
 "metadata": {
  "kernelspec": {
   "display_name": "Python 3",
   "language": "python",
   "name": "python3"
  },
  "language_info": {
   "codemirror_mode": {
    "name": "ipython",
    "version": 2
   },
   "file_extension": ".py",
   "mimetype": "text/x-python",
   "name": "python",
   "nbconvert_exporter": "python",
   "pygments_lexer": "ipython2",
   "version": "2.7.6"
  }
 },
 "nbformat": 4,
 "nbformat_minor": 5
}
