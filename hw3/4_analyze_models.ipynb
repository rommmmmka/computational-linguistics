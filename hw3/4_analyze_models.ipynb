{
 "cells": [
  {
   "cell_type": "code",
   "execution_count": 77,
   "id": "initial_id",
   "metadata": {
    "collapsed": true,
    "ExecuteTime": {
     "end_time": "2024-04-30T10:13:11.880606600Z",
     "start_time": "2024-04-30T10:13:11.872767100Z"
    }
   },
   "outputs": [],
   "source": [
    "import pandas as pd\n",
    "from gensim.models.keyedvectors import KeyedVectors"
   ]
  },
  {
   "cell_type": "code",
   "execution_count": 4,
   "outputs": [],
   "source": [
    "wv_skipgram_w5 = KeyedVectors.load_word2vec_format(\"results/models/m_skipgram_w5.vec\")\n",
    "wv_skipgram_w10 = KeyedVectors.load_word2vec_format(\"results/models/m_skipgram_w10.vec\")\n",
    "wv_cbow_w5 = KeyedVectors.load_word2vec_format(\"results/models/m_cbow_w5.vec\")\n",
    "\n",
    "# https://fasttext.cc/docs/en/crawl-vectors.html#models\n",
    "wv_pretrained = KeyedVectors.load_word2vec_format(\"results/models/cc.be.300.vec\")"
   ],
   "metadata": {
    "collapsed": false,
    "ExecuteTime": {
     "end_time": "2024-04-30T09:49:02.935949300Z",
     "start_time": "2024-04-30T09:41:56.956654700Z"
    }
   },
   "id": "f86980a1b4c22fc8"
  },
  {
   "cell_type": "code",
   "execution_count": 7,
   "outputs": [],
   "source": [
    "def apply_func(func, index = None):\n",
    "    map_func = lambda x: \": \".join(map(str,x)) if type(x) == tuple else x\n",
    "    \n",
    "    table = {\n",
    "        \"skipgram 100\": map(map_func, func(wv_skipgram_w5, \"skipgram 100\")),\n",
    "        \"skipgram 300\": map(map_func, func(wv_skipgram_w10, \"skipgram 300\")),\n",
    "        \"cbow 100\": map(map_func, func(wv_cbow_w5, \"cbow 100\")),\n",
    "        \"pretrained\": map(map_func, func(wv_pretrained, \"pretrained\"))\n",
    "    }\n",
    "    \n",
    "    return pd.DataFrame(table, index)"
   ],
   "metadata": {
    "collapsed": false,
    "ExecuteTime": {
     "end_time": "2024-04-30T09:49:21.439174400Z",
     "start_time": "2024-04-30T09:49:21.425086700Z"
    }
   },
   "id": "d63875c448a6033b"
  },
  {
   "cell_type": "code",
   "execution_count": 8,
   "outputs": [
    {
     "data": {
      "text/plain": "                   skipgram 100  skipgram 300  cbow 100  pretrained\nNumber of vectors        114491        114491    114491     1714011",
      "text/html": "<div>\n<style scoped>\n    .dataframe tbody tr th:only-of-type {\n        vertical-align: middle;\n    }\n\n    .dataframe tbody tr th {\n        vertical-align: top;\n    }\n\n    .dataframe thead th {\n        text-align: right;\n    }\n</style>\n<table border=\"1\" class=\"dataframe\">\n  <thead>\n    <tr style=\"text-align: right;\">\n      <th></th>\n      <th>skipgram 100</th>\n      <th>skipgram 300</th>\n      <th>cbow 100</th>\n      <th>pretrained</th>\n    </tr>\n  </thead>\n  <tbody>\n    <tr>\n      <th>Number of vectors</th>\n      <td>114491</td>\n      <td>114491</td>\n      <td>114491</td>\n      <td>1714011</td>\n    </tr>\n  </tbody>\n</table>\n</div>"
     },
     "execution_count": 8,
     "metadata": {},
     "output_type": "execute_result"
    }
   ],
   "source": [
    "apply_func(\n",
    "    lambda x, _: [len(x.vectors)],\n",
    "    index=[\"Number of vectors\"]\n",
    ")"
   ],
   "metadata": {
    "collapsed": false,
    "ExecuteTime": {
     "end_time": "2024-04-30T09:49:22.918668300Z",
     "start_time": "2024-04-30T09:49:22.890668300Z"
    }
   },
   "id": "d9dcd9901e0fe4b"
  },
  {
   "cell_type": "markdown",
   "source": [
    "# Outliers detection"
   ],
   "metadata": {
    "collapsed": false
   },
   "id": "8711d267af283b53"
  },
  {
   "cell_type": "code",
   "execution_count": 67,
   "outputs": [],
   "source": [
    "outlier_stats = {\n",
    "    \"skipgram 100\": 0,\n",
    "    \"skipgram 300\": 0,\n",
    "    \"cbow 100\": 0,\n",
    "    \"pretrained\": 0\n",
    "}\n",
    "\n",
    "\n",
    "def detect_outliers(wv: KeyedVectors, model_name: str):\n",
    "    column = []\n",
    "    \n",
    "    for outlier in cluster_outliers:\n",
    "        predicted_outlier = wv.doesnt_match(\n",
    "            cluster_elements + [outlier]\n",
    "        )\n",
    "        \n",
    "        if predicted_outlier == outlier:\n",
    "            column.append(\"+\")\n",
    "        else:\n",
    "            column.append(\"- \" + predicted_outlier)\n",
    "            \n",
    "    column.append(f\"{column.count('+')}/8\")\n",
    "    outlier_stats[model_name] += column.count('+')\n",
    "    \n",
    "    return column"
   ],
   "metadata": {
    "collapsed": false,
    "ExecuteTime": {
     "end_time": "2024-04-30T10:09:47.166250500Z",
     "start_time": "2024-04-30T10:09:47.161584600Z"
    }
   },
   "id": "914ffffe6643ba49"
  },
  {
   "cell_type": "code",
   "execution_count": 68,
   "outputs": [
    {
     "data": {
      "text/plain": "                    skipgram 100 skipgram 300 cbow 100 pretrained\nмастак                         +            +        +          +\nвясёлка                   - белы    - чырвоны        +          +\nгарбата                        +    - чырвоны        +          +\nаловак                         +            +        +          +\nнеба                           +            +        +          +\nплот                           +            +        +          +\nэмоцыя                         +            +        +          +\nстаражытнасць                  +            +        +          +\nCorrect predictions          7/8          6/8      8/8        8/8",
      "text/html": "<div>\n<style scoped>\n    .dataframe tbody tr th:only-of-type {\n        vertical-align: middle;\n    }\n\n    .dataframe tbody tr th {\n        vertical-align: top;\n    }\n\n    .dataframe thead th {\n        text-align: right;\n    }\n</style>\n<table border=\"1\" class=\"dataframe\">\n  <thead>\n    <tr style=\"text-align: right;\">\n      <th></th>\n      <th>skipgram 100</th>\n      <th>skipgram 300</th>\n      <th>cbow 100</th>\n      <th>pretrained</th>\n    </tr>\n  </thead>\n  <tbody>\n    <tr>\n      <th>мастак</th>\n      <td>+</td>\n      <td>+</td>\n      <td>+</td>\n      <td>+</td>\n    </tr>\n    <tr>\n      <th>вясёлка</th>\n      <td>- белы</td>\n      <td>- чырвоны</td>\n      <td>+</td>\n      <td>+</td>\n    </tr>\n    <tr>\n      <th>гарбата</th>\n      <td>+</td>\n      <td>- чырвоны</td>\n      <td>+</td>\n      <td>+</td>\n    </tr>\n    <tr>\n      <th>аловак</th>\n      <td>+</td>\n      <td>+</td>\n      <td>+</td>\n      <td>+</td>\n    </tr>\n    <tr>\n      <th>неба</th>\n      <td>+</td>\n      <td>+</td>\n      <td>+</td>\n      <td>+</td>\n    </tr>\n    <tr>\n      <th>плот</th>\n      <td>+</td>\n      <td>+</td>\n      <td>+</td>\n      <td>+</td>\n    </tr>\n    <tr>\n      <th>эмоцыя</th>\n      <td>+</td>\n      <td>+</td>\n      <td>+</td>\n      <td>+</td>\n    </tr>\n    <tr>\n      <th>старажытнасць</th>\n      <td>+</td>\n      <td>+</td>\n      <td>+</td>\n      <td>+</td>\n    </tr>\n    <tr>\n      <th>Correct predictions</th>\n      <td>7/8</td>\n      <td>6/8</td>\n      <td>8/8</td>\n      <td>8/8</td>\n    </tr>\n  </tbody>\n</table>\n</div>"
     },
     "execution_count": 68,
     "metadata": {},
     "output_type": "execute_result"
    }
   ],
   "source": [
    "cluster_elements = [\"чырвоны\", \"белы\", \"сіні\", \"блакітны\", \"зялёны\", \"чорны\", \"жоўты\", \"карычневы\"]\n",
    "cluster_outliers = [\"мастак\", \"вясёлка\", \"гарбата\", \"аловак\", \"неба\", \"плот\", \"эмоцыя\", \"старажытнасць\"]\n",
    "\n",
    "apply_func(detect_outliers, index=cluster_outliers + [\"Correct predictions\"])"
   ],
   "metadata": {
    "collapsed": false,
    "ExecuteTime": {
     "end_time": "2024-04-30T10:09:47.554290800Z",
     "start_time": "2024-04-30T10:09:47.517760900Z"
    }
   },
   "id": "2851b42e3a2cee19"
  },
  {
   "cell_type": "code",
   "execution_count": 69,
   "outputs": [
    {
     "data": {
      "text/plain": "                    skipgram 100 skipgram 300  cbow 100 pretrained\nлес                            +            +         +      - мыш\nкамень                         +            +         +          +\nпыса                    - сабака     - сабака  - сабака      - мыш\nхвост                          +            +  - сабака      - мыш\nзаапарк                 - сабака            +  - сабака      - мыш\nзграя                   - сабака            +  - сабака      - мыш\nтэхніка                        +            +         +          +\nмастацтва                      +            +         +          +\nCorrect predictions          5/8          7/8       4/8        3/8",
      "text/html": "<div>\n<style scoped>\n    .dataframe tbody tr th:only-of-type {\n        vertical-align: middle;\n    }\n\n    .dataframe tbody tr th {\n        vertical-align: top;\n    }\n\n    .dataframe thead th {\n        text-align: right;\n    }\n</style>\n<table border=\"1\" class=\"dataframe\">\n  <thead>\n    <tr style=\"text-align: right;\">\n      <th></th>\n      <th>skipgram 100</th>\n      <th>skipgram 300</th>\n      <th>cbow 100</th>\n      <th>pretrained</th>\n    </tr>\n  </thead>\n  <tbody>\n    <tr>\n      <th>лес</th>\n      <td>+</td>\n      <td>+</td>\n      <td>+</td>\n      <td>- мыш</td>\n    </tr>\n    <tr>\n      <th>камень</th>\n      <td>+</td>\n      <td>+</td>\n      <td>+</td>\n      <td>+</td>\n    </tr>\n    <tr>\n      <th>пыса</th>\n      <td>- сабака</td>\n      <td>- сабака</td>\n      <td>- сабака</td>\n      <td>- мыш</td>\n    </tr>\n    <tr>\n      <th>хвост</th>\n      <td>+</td>\n      <td>+</td>\n      <td>- сабака</td>\n      <td>- мыш</td>\n    </tr>\n    <tr>\n      <th>заапарк</th>\n      <td>- сабака</td>\n      <td>+</td>\n      <td>- сабака</td>\n      <td>- мыш</td>\n    </tr>\n    <tr>\n      <th>зграя</th>\n      <td>- сабака</td>\n      <td>+</td>\n      <td>- сабака</td>\n      <td>- мыш</td>\n    </tr>\n    <tr>\n      <th>тэхніка</th>\n      <td>+</td>\n      <td>+</td>\n      <td>+</td>\n      <td>+</td>\n    </tr>\n    <tr>\n      <th>мастацтва</th>\n      <td>+</td>\n      <td>+</td>\n      <td>+</td>\n      <td>+</td>\n    </tr>\n    <tr>\n      <th>Correct predictions</th>\n      <td>5/8</td>\n      <td>7/8</td>\n      <td>4/8</td>\n      <td>3/8</td>\n    </tr>\n  </tbody>\n</table>\n</div>"
     },
     "execution_count": 69,
     "metadata": {},
     "output_type": "execute_result"
    }
   ],
   "source": [
    "cluster_elements = [\"сабака\", \"кот\", \"леў\", \"мыш\", \"ліс\", \"воўк\", \"мядзведзь\", \"заяц\"]\n",
    "cluster_outliers = [\"лес\", \"камень\", \"пыса\", \"хвост\", \"заапарк\", \"зграя\", \"тэхніка\", \"мастацтва\"]\n",
    "\n",
    "apply_func(detect_outliers, index=cluster_outliers + [\"Correct predictions\"])"
   ],
   "metadata": {
    "collapsed": false,
    "ExecuteTime": {
     "end_time": "2024-04-30T10:09:47.938185100Z",
     "start_time": "2024-04-30T10:09:47.919856700Z"
    }
   },
   "id": "f62f3d8e2be74b75"
  },
  {
   "cell_type": "code",
   "execution_count": 70,
   "outputs": [
    {
     "data": {
      "text/plain": "                    skipgram 100 skipgram 300 cbow 100 pretrained\nсерада                         +            +        +          +\nзіма                           +            +        +          +\nдата                           +            +        +          +\nгод                            +            +        +          +\nастралогія                     +            +        +          +\nнараджэнне                     +            +        +          +\nмяч                            +            +        +          +\nпапера                         +            +        +          +\nCorrect predictions          8/8          8/8      8/8        8/8",
      "text/html": "<div>\n<style scoped>\n    .dataframe tbody tr th:only-of-type {\n        vertical-align: middle;\n    }\n\n    .dataframe tbody tr th {\n        vertical-align: top;\n    }\n\n    .dataframe thead th {\n        text-align: right;\n    }\n</style>\n<table border=\"1\" class=\"dataframe\">\n  <thead>\n    <tr style=\"text-align: right;\">\n      <th></th>\n      <th>skipgram 100</th>\n      <th>skipgram 300</th>\n      <th>cbow 100</th>\n      <th>pretrained</th>\n    </tr>\n  </thead>\n  <tbody>\n    <tr>\n      <th>серада</th>\n      <td>+</td>\n      <td>+</td>\n      <td>+</td>\n      <td>+</td>\n    </tr>\n    <tr>\n      <th>зіма</th>\n      <td>+</td>\n      <td>+</td>\n      <td>+</td>\n      <td>+</td>\n    </tr>\n    <tr>\n      <th>дата</th>\n      <td>+</td>\n      <td>+</td>\n      <td>+</td>\n      <td>+</td>\n    </tr>\n    <tr>\n      <th>год</th>\n      <td>+</td>\n      <td>+</td>\n      <td>+</td>\n      <td>+</td>\n    </tr>\n    <tr>\n      <th>астралогія</th>\n      <td>+</td>\n      <td>+</td>\n      <td>+</td>\n      <td>+</td>\n    </tr>\n    <tr>\n      <th>нараджэнне</th>\n      <td>+</td>\n      <td>+</td>\n      <td>+</td>\n      <td>+</td>\n    </tr>\n    <tr>\n      <th>мяч</th>\n      <td>+</td>\n      <td>+</td>\n      <td>+</td>\n      <td>+</td>\n    </tr>\n    <tr>\n      <th>папера</th>\n      <td>+</td>\n      <td>+</td>\n      <td>+</td>\n      <td>+</td>\n    </tr>\n    <tr>\n      <th>Correct predictions</th>\n      <td>8/8</td>\n      <td>8/8</td>\n      <td>8/8</td>\n      <td>8/8</td>\n    </tr>\n  </tbody>\n</table>\n</div>"
     },
     "execution_count": 70,
     "metadata": {},
     "output_type": "execute_result"
    }
   ],
   "source": [
    "cluster_elements = [\"студзень\", \"сакавік\", \"май\", \"ліпень\", \"жнівень\", \"верасень\", \"лістапад\", \"снежань\"]\n",
    "cluster_outliers = [\"серада\", \"зіма\", \"дата\", \"год\", \"астралогія\", \"нараджэнне\", \"мяч\", \"папера\"]\n",
    "\n",
    "apply_func(detect_outliers, index=cluster_outliers + [\"Correct predictions\"])"
   ],
   "metadata": {
    "collapsed": false,
    "ExecuteTime": {
     "end_time": "2024-04-30T10:09:48.367638300Z",
     "start_time": "2024-04-30T10:09:48.329036100Z"
    }
   },
   "id": "9654fba02dc8f9e0"
  },
  {
   "cell_type": "code",
   "execution_count": 71,
   "outputs": [
    {
     "data": {
      "text/plain": "                    skipgram 100 skipgram 300  cbow 100 pretrained\nмедыцына                       +            +         +          +\nмышца                   - галава     - галава         +    - палец\nшапка                   - галава     - галава  - галава          +\nадзенне                 - галава            +         +          +\nфутбол                         +            +         +          +\nпраца                          +            +         +          +\nсмоўж                   - галава            +         +          +\nпланета                        +            +         +          +\nCorrect predictions          4/8          6/8       7/8        7/8",
      "text/html": "<div>\n<style scoped>\n    .dataframe tbody tr th:only-of-type {\n        vertical-align: middle;\n    }\n\n    .dataframe tbody tr th {\n        vertical-align: top;\n    }\n\n    .dataframe thead th {\n        text-align: right;\n    }\n</style>\n<table border=\"1\" class=\"dataframe\">\n  <thead>\n    <tr style=\"text-align: right;\">\n      <th></th>\n      <th>skipgram 100</th>\n      <th>skipgram 300</th>\n      <th>cbow 100</th>\n      <th>pretrained</th>\n    </tr>\n  </thead>\n  <tbody>\n    <tr>\n      <th>медыцына</th>\n      <td>+</td>\n      <td>+</td>\n      <td>+</td>\n      <td>+</td>\n    </tr>\n    <tr>\n      <th>мышца</th>\n      <td>- галава</td>\n      <td>- галава</td>\n      <td>+</td>\n      <td>- палец</td>\n    </tr>\n    <tr>\n      <th>шапка</th>\n      <td>- галава</td>\n      <td>- галава</td>\n      <td>- галава</td>\n      <td>+</td>\n    </tr>\n    <tr>\n      <th>адзенне</th>\n      <td>- галава</td>\n      <td>+</td>\n      <td>+</td>\n      <td>+</td>\n    </tr>\n    <tr>\n      <th>футбол</th>\n      <td>+</td>\n      <td>+</td>\n      <td>+</td>\n      <td>+</td>\n    </tr>\n    <tr>\n      <th>праца</th>\n      <td>+</td>\n      <td>+</td>\n      <td>+</td>\n      <td>+</td>\n    </tr>\n    <tr>\n      <th>смоўж</th>\n      <td>- галава</td>\n      <td>+</td>\n      <td>+</td>\n      <td>+</td>\n    </tr>\n    <tr>\n      <th>планета</th>\n      <td>+</td>\n      <td>+</td>\n      <td>+</td>\n      <td>+</td>\n    </tr>\n    <tr>\n      <th>Correct predictions</th>\n      <td>4/8</td>\n      <td>6/8</td>\n      <td>7/8</td>\n      <td>7/8</td>\n    </tr>\n  </tbody>\n</table>\n</div>"
     },
     "execution_count": 71,
     "metadata": {},
     "output_type": "execute_result"
    }
   ],
   "source": [
    "cluster_elements = [\"галава\", \"рука\", \"нага\", \"тулава\", \"шыя\", \"палец\", \"спіна\", \"плячо\"]\n",
    "cluster_outliers = [\"медыцына\", \"мышца\", \"шапка\", \"адзенне\", \"футбол\", \"праца\", \"смоўж\", \"планета\"]\n",
    "\n",
    "apply_func(detect_outliers, index=cluster_outliers + [\"Correct predictions\"])"
   ],
   "metadata": {
    "collapsed": false,
    "ExecuteTime": {
     "end_time": "2024-04-30T10:09:48.698505100Z",
     "start_time": "2024-04-30T10:09:48.659551700Z"
    }
   },
   "id": "3a7332e562ce770e"
  },
  {
   "cell_type": "code",
   "execution_count": 72,
   "outputs": [
    {
     "data": {
      "text/plain": "                     skipgram 100 skipgram 300      cbow 100 pretrained\nпадарунак                       +            +  - вадохрышча          +\nсвяточнасць                     +            +  - вадохрышча     - спас\nабрад                           +            +  - вадохрышча     - спас\nпрымха               - вадохрышча       - спас  - вадохрышча          +\nпрысмак                         +            +  - вадохрышча     - спас\nсузор'е              - вадохрышча       - спас  - вадохрышча     - спас\nграфін               - вадохрышча       - спас  - вадохрышча          +\nвоск                            +       - спас  - вадохрышча          +\nCorrect predictions           5/8          4/8           0/8        4/8",
      "text/html": "<div>\n<style scoped>\n    .dataframe tbody tr th:only-of-type {\n        vertical-align: middle;\n    }\n\n    .dataframe tbody tr th {\n        vertical-align: top;\n    }\n\n    .dataframe thead th {\n        text-align: right;\n    }\n</style>\n<table border=\"1\" class=\"dataframe\">\n  <thead>\n    <tr style=\"text-align: right;\">\n      <th></th>\n      <th>skipgram 100</th>\n      <th>skipgram 300</th>\n      <th>cbow 100</th>\n      <th>pretrained</th>\n    </tr>\n  </thead>\n  <tbody>\n    <tr>\n      <th>падарунак</th>\n      <td>+</td>\n      <td>+</td>\n      <td>- вадохрышча</td>\n      <td>+</td>\n    </tr>\n    <tr>\n      <th>святочнасць</th>\n      <td>+</td>\n      <td>+</td>\n      <td>- вадохрышча</td>\n      <td>- спас</td>\n    </tr>\n    <tr>\n      <th>абрад</th>\n      <td>+</td>\n      <td>+</td>\n      <td>- вадохрышча</td>\n      <td>- спас</td>\n    </tr>\n    <tr>\n      <th>прымха</th>\n      <td>- вадохрышча</td>\n      <td>- спас</td>\n      <td>- вадохрышча</td>\n      <td>+</td>\n    </tr>\n    <tr>\n      <th>прысмак</th>\n      <td>+</td>\n      <td>+</td>\n      <td>- вадохрышча</td>\n      <td>- спас</td>\n    </tr>\n    <tr>\n      <th>сузор'е</th>\n      <td>- вадохрышча</td>\n      <td>- спас</td>\n      <td>- вадохрышча</td>\n      <td>- спас</td>\n    </tr>\n    <tr>\n      <th>графін</th>\n      <td>- вадохрышча</td>\n      <td>- спас</td>\n      <td>- вадохрышча</td>\n      <td>+</td>\n    </tr>\n    <tr>\n      <th>воск</th>\n      <td>+</td>\n      <td>- спас</td>\n      <td>- вадохрышча</td>\n      <td>+</td>\n    </tr>\n    <tr>\n      <th>Correct predictions</th>\n      <td>5/8</td>\n      <td>4/8</td>\n      <td>0/8</td>\n      <td>4/8</td>\n    </tr>\n  </tbody>\n</table>\n</div>"
     },
     "execution_count": 72,
     "metadata": {},
     "output_type": "execute_result"
    }
   ],
   "source": [
    "cluster_elements = [\"масленіца\", \"купалле\", \"вялікдзень\", \"спас\", \"сёмуха\", \"вадохрышча\", \"радаўніца\", \"дажынкі\"]\n",
    "cluster_outliers = [\"падарунак\", \"святочнасць\", \"абрад\", \"прымха\", \"прысмак\", \"сузор'е\", \"графін\", \"воск\"]\n",
    "\n",
    "apply_func(detect_outliers, index=cluster_outliers + [\"Correct predictions\"])"
   ],
   "metadata": {
    "collapsed": false,
    "ExecuteTime": {
     "end_time": "2024-04-30T10:09:49.067071700Z",
     "start_time": "2024-04-30T10:09:49.026246800Z"
    }
   },
   "id": "9d24fadbd0319eca"
  },
  {
   "cell_type": "code",
   "execution_count": 73,
   "outputs": [
    {
     "data": {
      "text/plain": "                    skipgram 100 skipgram 300 cbow 100 pretrained\nвёска                          +            +        +          +\nкраіна                         +            +        +          +\nмэр                        - дом        - дом    - дом          +\nтранспарт                      +            +    - дом          +\nтурыст                     - дом     - вуліца    - дом          +\nмапа                           +            +    - дом          +\nкава                           +            +        +          +\nкрыж                           +            +        +          +\nCorrect predictions          6/8          6/8      4/8        8/8",
      "text/html": "<div>\n<style scoped>\n    .dataframe tbody tr th:only-of-type {\n        vertical-align: middle;\n    }\n\n    .dataframe tbody tr th {\n        vertical-align: top;\n    }\n\n    .dataframe thead th {\n        text-align: right;\n    }\n</style>\n<table border=\"1\" class=\"dataframe\">\n  <thead>\n    <tr style=\"text-align: right;\">\n      <th></th>\n      <th>skipgram 100</th>\n      <th>skipgram 300</th>\n      <th>cbow 100</th>\n      <th>pretrained</th>\n    </tr>\n  </thead>\n  <tbody>\n    <tr>\n      <th>вёска</th>\n      <td>+</td>\n      <td>+</td>\n      <td>+</td>\n      <td>+</td>\n    </tr>\n    <tr>\n      <th>краіна</th>\n      <td>+</td>\n      <td>+</td>\n      <td>+</td>\n      <td>+</td>\n    </tr>\n    <tr>\n      <th>мэр</th>\n      <td>- дом</td>\n      <td>- дом</td>\n      <td>- дом</td>\n      <td>+</td>\n    </tr>\n    <tr>\n      <th>транспарт</th>\n      <td>+</td>\n      <td>+</td>\n      <td>- дом</td>\n      <td>+</td>\n    </tr>\n    <tr>\n      <th>турыст</th>\n      <td>- дом</td>\n      <td>- вуліца</td>\n      <td>- дом</td>\n      <td>+</td>\n    </tr>\n    <tr>\n      <th>мапа</th>\n      <td>+</td>\n      <td>+</td>\n      <td>- дом</td>\n      <td>+</td>\n    </tr>\n    <tr>\n      <th>кава</th>\n      <td>+</td>\n      <td>+</td>\n      <td>+</td>\n      <td>+</td>\n    </tr>\n    <tr>\n      <th>крыж</th>\n      <td>+</td>\n      <td>+</td>\n      <td>+</td>\n      <td>+</td>\n    </tr>\n    <tr>\n      <th>Correct predictions</th>\n      <td>6/8</td>\n      <td>6/8</td>\n      <td>4/8</td>\n      <td>8/8</td>\n    </tr>\n  </tbody>\n</table>\n</div>"
     },
     "execution_count": 73,
     "metadata": {},
     "output_type": "execute_result"
    }
   ],
   "source": [
    "cluster_elements = [\"вуліца\", \"дом\", \"парк\", \"плошча\", \"праспект\", \"сквер\", \"завулак\", \"бульвар\"]\n",
    "cluster_outliers = [\"вёска\", \"краіна\", \"мэр\", \"транспарт\", \"турыст\", \"мапа\", \"кава\", \"крыж\"]\n",
    "\n",
    "apply_func(detect_outliers, index=cluster_outliers + [\"Correct predictions\"])"
   ],
   "metadata": {
    "collapsed": false,
    "ExecuteTime": {
     "end_time": "2024-04-30T10:09:49.386786800Z",
     "start_time": "2024-04-30T10:09:49.338770500Z"
    }
   },
   "id": "a4e40851f1f830a5"
  },
  {
   "cell_type": "code",
   "execution_count": 74,
   "outputs": [
    {
     "data": {
      "text/plain": "                    skipgram 100 skipgram 300   cbow 100 pretrained\nдарога                         +            +  - самакат          +\nкола                           +            +  - самакат          +\nгорад                          +            +  - самакат          +\nквіток                  - машына            +  - самакат    - метро\nмаршрут                 - машына            +  - самакат    - метро\nхуткасць                       +            +  - самакат          +\nгруша                          +            +  - самакат          +\nмесяц                          +            +  - самакат          +\nCorrect predictions          6/8          8/8        0/8        6/8",
      "text/html": "<div>\n<style scoped>\n    .dataframe tbody tr th:only-of-type {\n        vertical-align: middle;\n    }\n\n    .dataframe tbody tr th {\n        vertical-align: top;\n    }\n\n    .dataframe thead th {\n        text-align: right;\n    }\n</style>\n<table border=\"1\" class=\"dataframe\">\n  <thead>\n    <tr style=\"text-align: right;\">\n      <th></th>\n      <th>skipgram 100</th>\n      <th>skipgram 300</th>\n      <th>cbow 100</th>\n      <th>pretrained</th>\n    </tr>\n  </thead>\n  <tbody>\n    <tr>\n      <th>дарога</th>\n      <td>+</td>\n      <td>+</td>\n      <td>- самакат</td>\n      <td>+</td>\n    </tr>\n    <tr>\n      <th>кола</th>\n      <td>+</td>\n      <td>+</td>\n      <td>- самакат</td>\n      <td>+</td>\n    </tr>\n    <tr>\n      <th>горад</th>\n      <td>+</td>\n      <td>+</td>\n      <td>- самакат</td>\n      <td>+</td>\n    </tr>\n    <tr>\n      <th>квіток</th>\n      <td>- машына</td>\n      <td>+</td>\n      <td>- самакат</td>\n      <td>- метро</td>\n    </tr>\n    <tr>\n      <th>маршрут</th>\n      <td>- машына</td>\n      <td>+</td>\n      <td>- самакат</td>\n      <td>- метро</td>\n    </tr>\n    <tr>\n      <th>хуткасць</th>\n      <td>+</td>\n      <td>+</td>\n      <td>- самакат</td>\n      <td>+</td>\n    </tr>\n    <tr>\n      <th>груша</th>\n      <td>+</td>\n      <td>+</td>\n      <td>- самакат</td>\n      <td>+</td>\n    </tr>\n    <tr>\n      <th>месяц</th>\n      <td>+</td>\n      <td>+</td>\n      <td>- самакат</td>\n      <td>+</td>\n    </tr>\n    <tr>\n      <th>Correct predictions</th>\n      <td>6/8</td>\n      <td>8/8</td>\n      <td>0/8</td>\n      <td>6/8</td>\n    </tr>\n  </tbody>\n</table>\n</div>"
     },
     "execution_count": 74,
     "metadata": {},
     "output_type": "execute_result"
    }
   ],
   "source": [
    "cluster_elements = [\"аўтобус\", \"тралейбус\", \"машына\", \"трамвай\", \"метро\", \"ровар\", \"самакат\", \"матацыкл\"]\n",
    "cluster_outliers = [\"дарога\", \"кола\", \"горад\", \"квіток\", \"маршрут\", \"хуткасць\", \"груша\", \"месяц\"]\n",
    "\n",
    "apply_func(detect_outliers, index=cluster_outliers + [\"Correct predictions\"])"
   ],
   "metadata": {
    "collapsed": false,
    "ExecuteTime": {
     "end_time": "2024-04-30T10:09:49.826802Z",
     "start_time": "2024-04-30T10:09:49.787427400Z"
    }
   },
   "id": "980c67b7a8a3c883"
  },
  {
   "cell_type": "code",
   "execution_count": 75,
   "outputs": [
    {
     "data": {
      "text/plain": "                    skipgram 100 skipgram 300   cbow 100 pretrained\nстрава                         +            +  - духоўка    - пліта\nкухар                          +            +  - духоўка          +\nпакой                          +            +  - духоўка          +\nвада                           +            +  - духоўка          +\nкватэра                        +            +  - духоўка          +\nканапа                         +            +  - духоўка    - пліта\nмарс                     - пліта      - пліта  - духоўка          +\nтрава                          +            +  - духоўка          +\nCorrect predictions          7/8          7/8        0/8        6/8",
      "text/html": "<div>\n<style scoped>\n    .dataframe tbody tr th:only-of-type {\n        vertical-align: middle;\n    }\n\n    .dataframe tbody tr th {\n        vertical-align: top;\n    }\n\n    .dataframe thead th {\n        text-align: right;\n    }\n</style>\n<table border=\"1\" class=\"dataframe\">\n  <thead>\n    <tr style=\"text-align: right;\">\n      <th></th>\n      <th>skipgram 100</th>\n      <th>skipgram 300</th>\n      <th>cbow 100</th>\n      <th>pretrained</th>\n    </tr>\n  </thead>\n  <tbody>\n    <tr>\n      <th>страва</th>\n      <td>+</td>\n      <td>+</td>\n      <td>- духоўка</td>\n      <td>- пліта</td>\n    </tr>\n    <tr>\n      <th>кухар</th>\n      <td>+</td>\n      <td>+</td>\n      <td>- духоўка</td>\n      <td>+</td>\n    </tr>\n    <tr>\n      <th>пакой</th>\n      <td>+</td>\n      <td>+</td>\n      <td>- духоўка</td>\n      <td>+</td>\n    </tr>\n    <tr>\n      <th>вада</th>\n      <td>+</td>\n      <td>+</td>\n      <td>- духоўка</td>\n      <td>+</td>\n    </tr>\n    <tr>\n      <th>кватэра</th>\n      <td>+</td>\n      <td>+</td>\n      <td>- духоўка</td>\n      <td>+</td>\n    </tr>\n    <tr>\n      <th>канапа</th>\n      <td>+</td>\n      <td>+</td>\n      <td>- духоўка</td>\n      <td>- пліта</td>\n    </tr>\n    <tr>\n      <th>марс</th>\n      <td>- пліта</td>\n      <td>- пліта</td>\n      <td>- духоўка</td>\n      <td>+</td>\n    </tr>\n    <tr>\n      <th>трава</th>\n      <td>+</td>\n      <td>+</td>\n      <td>- духоўка</td>\n      <td>+</td>\n    </tr>\n    <tr>\n      <th>Correct predictions</th>\n      <td>7/8</td>\n      <td>7/8</td>\n      <td>0/8</td>\n      <td>6/8</td>\n    </tr>\n  </tbody>\n</table>\n</div>"
     },
     "execution_count": 75,
     "metadata": {},
     "output_type": "execute_result"
    }
   ],
   "source": [
    "cluster_elements = [\"рондаль\", \"патэльня\", \"чайнік\", \"духоўка\", \"пліта\", \"тарка\", \"халадзільнік\", \"скавародка\"]\n",
    "cluster_outliers = [\"страва\", \"кухар\", \"пакой\", \"вада\", \"кватэра\", \"канапа\", \"марс\", \"трава\"]\n",
    "\n",
    "apply_func(detect_outliers, index=cluster_outliers + [\"Correct predictions\"])"
   ],
   "metadata": {
    "collapsed": false,
    "ExecuteTime": {
     "end_time": "2024-04-30T10:09:50.457754500Z",
     "start_time": "2024-04-30T10:09:50.430479400Z"
    }
   },
   "id": "ee4220ef1dd6843e"
  },
  {
   "cell_type": "code",
   "execution_count": 76,
   "outputs": [
    {
     "data": {
      "text/plain": "             Number of correctly predicted % of correctly predicted\nskipgram 100                         48/64                     75.0\nskipgram 300                         52/64                    81.25\ncbow 100                             31/64                  48.4375\npretrained                           50/64                   78.125",
      "text/html": "<div>\n<style scoped>\n    .dataframe tbody tr th:only-of-type {\n        vertical-align: middle;\n    }\n\n    .dataframe tbody tr th {\n        vertical-align: top;\n    }\n\n    .dataframe thead th {\n        text-align: right;\n    }\n</style>\n<table border=\"1\" class=\"dataframe\">\n  <thead>\n    <tr style=\"text-align: right;\">\n      <th></th>\n      <th>Number of correctly predicted</th>\n      <th>% of correctly predicted</th>\n    </tr>\n  </thead>\n  <tbody>\n    <tr>\n      <th>skipgram 100</th>\n      <td>48/64</td>\n      <td>75.0</td>\n    </tr>\n    <tr>\n      <th>skipgram 300</th>\n      <td>52/64</td>\n      <td>81.25</td>\n    </tr>\n    <tr>\n      <th>cbow 100</th>\n      <td>31/64</td>\n      <td>48.4375</td>\n    </tr>\n    <tr>\n      <th>pretrained</th>\n      <td>50/64</td>\n      <td>78.125</td>\n    </tr>\n  </tbody>\n</table>\n</div>"
     },
     "execution_count": 76,
     "metadata": {},
     "output_type": "execute_result"
    }
   ],
   "source": [
    "for col, val in outlier_stats.items():\n",
    "    outlier_stats[col] = [f\"{val}/64\", val / 64 * 100]\n",
    "\n",
    "pd.DataFrame(\n",
    "    data=outlier_stats,\n",
    "    index=[\"Number of correctly predicted\", \"% of correctly predicted\"]\n",
    ").T"
   ],
   "metadata": {
    "collapsed": false,
    "ExecuteTime": {
     "end_time": "2024-04-30T10:09:51.007484500Z",
     "start_time": "2024-04-30T10:09:50.998939400Z"
    }
   },
   "id": "1e87cdbf0aabd5ec"
  }
 ],
 "metadata": {
  "kernelspec": {
   "display_name": "Python 3",
   "language": "python",
   "name": "python3"
  },
  "language_info": {
   "codemirror_mode": {
    "name": "ipython",
    "version": 2
   },
   "file_extension": ".py",
   "mimetype": "text/x-python",
   "name": "python",
   "nbconvert_exporter": "python",
   "pygments_lexer": "ipython2",
   "version": "2.7.6"
  }
 },
 "nbformat": 4,
 "nbformat_minor": 5
}
